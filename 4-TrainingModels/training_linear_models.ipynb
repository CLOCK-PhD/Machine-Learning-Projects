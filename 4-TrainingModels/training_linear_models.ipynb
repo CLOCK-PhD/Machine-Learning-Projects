{
 "cells": [
  {
   "cell_type": "markdown",
   "metadata": {},
   "source": [
    "# Chapitre 4 - Entraîner des modèles linéaires\n",
    "\n",
    "On va aller voir de manière plus approfondie comment les choses fonctionnent et comment choisir un modèle approprié.\n",
    "\n",
    "## Setup"
   ]
  },
  {
   "cell_type": "code",
   "execution_count": 1,
   "metadata": {},
   "outputs": [],
   "source": [
    "#python >= 3.5 nécessaire\n",
    "import sys\n",
    "assert sys.version_info >= (3, 5)\n",
    "\n",
    "#scikit-learn >= 0.20 nécessaire\n",
    "import sklearn\n",
    "assert sklearn.__version__ >= \"0.20\"\n",
    "\n",
    "# Autres imports\n",
    "import numpy as np\n",
    "import os\n",
    "\n",
    "# pour rendre les output stables au fil des runs\n",
    "np.random.seed(42)\n",
    "\n",
    "# pour tracer de jolis graphes\n",
    "%matplotlib inline\n",
    "import matplotlib as mpl\n",
    "import matplotlib.pyplot as plt\n",
    "mpl.rc('axes', labelsize=14)\n",
    "mpl.rc('xtick', labelsize=12)\n",
    "mpl.rc('ytick', labelsize=12)\n",
    "\n",
    "# où sauvegarder les figures\n",
    "PROJECT_ROOT_DIR = \"..\"\n",
    "CHAPTER_ID = \"training_linear_models\"\n",
    "IMAGES_PATH = os.path.join(PROJECT_ROOT_DIR, \"images\", CHAPTER_ID)\n",
    "os.makedirs(IMAGES_PATH, exist_ok=True)\n",
    "\n",
    "def save_fig(fig_id, tight_layout=True, fig_extension=\"png\", resolution=300):\n",
    "    path = os.path.join(IMAGES_PATH, fig_id + \".\" + fig_extension)\n",
    "    print(\"Saving figure\", fig_id)\n",
    "    if tight_layout:\n",
    "        plt.tight_layout()\n",
    "    plt.savefig(path, format=fig_extension, dpi=resolution)\n",
    "\n",
    "# ignorer les warnings inutiles (voir SciPy issue #5998)\n",
    "import warnings\n",
    "warnings.filterwarnings(action=\"ignore\", message=\"^internal gelsd\")"
   ]
  },
  {
   "cell_type": "markdown",
   "metadata": {},
   "source": [
    "## Régression linéaire\n",
    "\n",
    "Un modèle linéaire fait des prédictions en calculant simplement une somme pondérée des caractéristiques en entrée (*input features*), plus une constante appelée terme de biais (*bias term*).\n",
    "\n",
    "*Prédiction du modèle de régression linéaire*\n",
    "$$\n",
    "\\hat{y} = \\theta_{0} + \\theta_{1}x_{1} + \\theta_{1}x_{1} + \\cdots + \\theta_{n}x_{n}\n",
    "$$\n",
    "\n",
    "Dans cette équation :\n",
    "- $\\hat{y}$ est la *valeur prédite*\n",
    "- $n$ est le nombre de caractéristiques (*features*)\n",
    "- $x_{i}$ est la $i^{ème}$ valeur de caractéristique (*feature value*)\n",
    "- $\\theta_{j}$ est le $j^{ème}$ paramètre du modèle (qui inclut le terme de biais $\\theta_{0}$ les poids des caractéristiques (*feature weight*) $\\theta_{1}$, $\\theta_{2}$, ..., $\\theta_{n}$)\n",
    "\n",
    "Cette équation peut être écrite de manière plus concise en utilisant une forme vectorisée :\n",
    "\n",
    "*Prédiction du modèle de régression linéaire (forme vectorisée)*\n",
    "$$\n",
    "\\hat{y} = h_{\\theta}(x) = \\theta \\cdot x\n",
    "$$\n",
    "\n",
    "Dans cette équation :\n",
    "- $\\theta$ est le *vecteur de paramètre* (*parameter vector*) du modèle, contenant le terme de biais $\\theta_{0}$ et la pondération des caractéristiques $\\theta_{1}$ à $\\theta_{n}$.\n",
    "- $x$ est le *vecteur de caractéristique* (*feature vector*), contenant $x_{0}$ à $x_{n}$, avec $x_{0}$ toujours égal à 1\n",
    "- $\\theta \\cdot x$ est le produit scalaire des vecteurs $\\theta$ et $x$, qui est bien sûr égal à $\\theta_{1}x_{1} + \\theta_{1}x_{1} + \\cdots + \\theta_{n}x_{n}$\n",
    "- $h_{\\theta}$ est la fonction d'hypothèse, utilisant les paramètres du modèle $\\theta$.\n",
    "\n",
    "Voilà pour la modèle de régression linéaire. On va maintenant voir comment l'entraîner ; il va avoir besoin qu'on règle ses paramètres pour qu'il corresponde le plus au JdE.\n",
    "\n",
    "Dans ce but, on va d'abord avoir besoin d'une mesure de la façon dont le modèle s'ajuste bien (ou mal) au JdE ; on va utiliser la RMSE (*Root Mean Square Error*) pour ça. Dincn, pour entraîner un modèle de régression linéaire, on va avoir besoin de *trouver la valeur de $\\theta$ qui minimise* le RMSE. Dans la pratique, c'est plus simple de minimser la MSE (*Mean Squared Errpr*) que la RMSE, et ça conduit au même résultat (parce que la valeur qui minimise une fonction minimise aussi sa racine carrée).\n",
    "\n",
    "La MSE d'une hypothèse $h_{\\theta}$ d'un JdE X est calculé selon l'équation suivante :\n",
    "\n",
    "$$\n",
    "MSE(X, h_{\\theta}) = \\frac{1}{m}\\sum_{i=1}^{m}(\\theta^{⊺}x^{(i)}-y^{(i)})^2\n",
    "$$\n",
    "\n",
    "On écrit $h_{\\theta}$ au lieu de $h$ pour être clair que le modèle est paramétré par le vecteur $\\theta$. Pour simplifier les notations, on va écrire MSE($\\theta$) au lieu de $MSE(X, h_{\\theta})$\n",
    "\n",
    "\n",
    "### L'équation normale (the normal equation)\n",
    "\n",
    "Pour trouver la valeur de $\\theta$ qui minimise la fonction de coût, il y a une solution en forme fermée (*closed form solution*), en d'autres mots, une equation mathématique qui donne le résultat directement. C'est ce qu'on appelle l'équation normale :\n",
    "\n",
    "$$\n",
    "\\hat{\\theta} = (X^{⊺}X)^{-1} X^{⊺} y\n",
    "$$\n",
    "\n",
    "Dans cette équation :\n",
    "- $\\hat{\\theta}$ est la valeur de $\\theta$ qui minimise la fonction de coût\n",
    "- $y$ est le vecteur des valeurs cibles contenant $y^{1}$ à $y^{m}$\n",
    "\n",
    "On va maintenant générer des données qui ressemblent à quelque chose de linéaire pour tester cette equation :"
   ]
  },
  {
   "cell_type": "code",
   "execution_count": 2,
   "metadata": {},
   "outputs": [
    {
     "name": "stdout",
     "output_type": "stream",
     "text": [
      "Saving figure generated_data_plot\n"
     ]
    },
    {
     "data": {
      "image/png": "[encoded data removed]",
      "text/plain": [
       "<Figure size 432x288 with 1 Axes>"
      ]
     },
     "metadata": {
      "needs_background": "light"
     },
     "output_type": "display_data"
    }
   ],
   "source": [
    "X = 2 * np.random.rand(100, 1)\n",
    "y = 4 + 3 * X + np.random.randn(100, 1)\n",
    "\n",
    "# tracer le graphe\n",
    "plt.plot(X, y, \"b.\")\n",
    "plt.xlabel(\"$x_1$\", fontsize=18)\n",
    "plt.ylabel(\"y\", rotation=0, fontsize=18)\n",
    "plt.axis([0, 2, 0 ,15])\n",
    "save_fig(\"generated_data_plot\")\n",
    "plt.show()"
   ]
  },
  {
   "cell_type": "markdown",
   "metadata": {},
   "source": [
    "Maintenant, on va calculer $\\hat{\\theta}$ en utilisant l'équation normale. Onva utiliser la fonction `inv()` du module d'algèrbe linéaire de NumPy (`np.linalg`) pour calculer l'inverse d'une matrice, et la méthode `dot()` pour la multiplication des matrices :"
   ]
  },
  {
   "cell_type": "code",
   "execution_count": 3,
   "metadata": {},
   "outputs": [],
   "source": [
    "X_b = np.c_[np.ones((100,1)), X]    # ajoute x0 = 1 à chaque instance\n",
    "theta_best = np.linalg.inv(X_b.T.dot(X_b)).dot(X_b.T).dot(y)"
   ]
  },
  {
   "cell_type": "markdown",
   "metadata": {},
   "source": [
    "La fonction qu'on a utilisé pour générer les données est $y = 4 + 3x_{i} + \"bruit gaussien\"$. Voyons voir ce que l'équation trouve :"
   ]
  },
  {
   "cell_type": "code",
   "execution_count": 4,
   "metadata": {},
   "outputs": [
    {
     "data": {
      "text/plain": [
       "array([[4.21509616],\n",
       "       [2.77011339]])"
      ]
     },
     "execution_count": 4,
     "metadata": {},
     "output_type": "execute_result"
    }
   ],
   "source": [
    "theta_best"
   ]
  },
  {
   "cell_type": "markdown",
   "metadata": {},
   "source": [
    "On aurait aimé trouver $\\theta_{0}=4$ et $\\theta_{1}=3$. On a un résultat assez proche mais le bruit rend impossible la découverte des paramètres exacts de la fonction d'origine.\n",
    "\n",
    "Maintenant, on peut faire des prédictions en utilisant $\\hat{\\theta}$ :"
   ]
  },
  {
   "cell_type": "code",
   "execution_count": 5,
   "metadata": {},
   "outputs": [
    {
     "data": {
      "text/plain": [
       "array([[4.21509616],\n",
       "       [9.75532293]])"
      ]
     },
     "execution_count": 5,
     "metadata": {},
     "output_type": "execute_result"
    }
   ],
   "source": [
    "X_new = np.array([[0], [2]])\n",
    "X_new_b = np.c_[np.ones((2, 1)), X_new] # ajoute x0 = 1 à chaque instance\n",
    "y_predict = X_new_b.dot(theta_best)\n",
    "y_predict"
   ]
  },
  {
   "cell_type": "markdown",
   "metadata": {},
   "source": [
    "On va maintenant tracer les prédictions du modèle :"
   ]
  },
  {
   "cell_type": "code",
   "execution_count": 6,
   "metadata": {},
   "outputs": [
    {
     "name": "stdout",
     "output_type": "stream",
     "text": [
      "Saving figure linear_model_predictions_plot\n"
     ]
    },
    {
     "data": {
      "image/png": "[encoded data removed]",
      "text/plain": [
       "<Figure size 432x288 with 1 Axes>"
      ]
     },
     "metadata": {
      "needs_background": "light"
     },
     "output_type": "display_data"
    }
   ],
   "source": [
    "plt.plot(X_new, y_predict, \"r-\", linewidth=2, label=\"Predictions\")\n",
    "plt.plot(X, y, \"b.\")\n",
    "plt.xlabel(\"$x_1$\", fontsize=18)\n",
    "plt.ylabel(\"$y$\", rotation=0, fontsize=18)\n",
    "plt.legend(loc=\"upper left\", fontsize=14)\n",
    "plt.axis([0, 2, 0, 15])\n",
    "save_fig(\"linear_model_predictions_plot\")\n",
    "plt.show()"
   ]
  },
  {
   "cell_type": "markdown",
   "metadata": {},
   "source": [
    "Réaliser une Régression Linéaire en utilisant Scikit-Learn est simple (à noter que sklearn sépare le terme de biais (`intercept_`) des poids des caractéristiques (*feature weights*)):"
   ]
  },
  {
   "cell_type": "code",
   "execution_count": 7,
   "metadata": {},
   "outputs": [
    {
     "data": {
      "text/plain": [
       "(array([4.21509616]), array([[2.77011339]]))"
      ]
     },
     "execution_count": 7,
     "metadata": {},
     "output_type": "execute_result"
    }
   ],
   "source": [
    "from sklearn.linear_model import LinearRegression\n",
    "\n",
    "lin_reg = LinearRegression()\n",
    "lin_reg.fit(X, y)\n",
    "lin_reg.intercept_, lin_reg.coef_"
   ]
  },
  {
   "cell_type": "code",
   "execution_count": 8,
   "metadata": {},
   "outputs": [
    {
     "data": {
      "text/plain": [
       "array([[4.21509616],\n",
       "       [9.75532293]])"
      ]
     },
     "execution_count": 8,
     "metadata": {},
     "output_type": "execute_result"
    }
   ],
   "source": [
    "lin_reg.predict(X_new)"
   ]
  },
  {
   "cell_type": "markdown",
   "metadata": {},
   "source": [
    "La classe `LinearRegression` est basée sur la fonction `scipy.linalg.lstsq()` (*least square*), qu'on peut appeler directement :"
   ]
  },
  {
   "cell_type": "code",
   "execution_count": 9,
   "metadata": {},
   "outputs": [
    {
     "data": {
      "text/plain": [
       "array([[4.21509616],\n",
       "       [2.77011339]])"
      ]
     },
     "execution_count": 9,
     "metadata": {},
     "output_type": "execute_result"
    }
   ],
   "source": [
    "theta_best_svd, residuals, rank, s = np.linalg.lstsq(X_b, y, rcond=1e-6)\n",
    "theta_best_svd"
   ]
  },
  {
   "cell_type": "markdown",
   "metadata": {},
   "source": [
    "Cette fonction calcule $\\hat{\\theta} = X^{+}y$ où $X^{+}$ est le *pseudoinverse* de X (l'inverse de Moore-Penrose). On peut utiliser `np.linalg.pinv()` pour calculer le pseudoinverse directement :"
   ]
  },
  {
   "cell_type": "code",
   "execution_count": 10,
   "metadata": {},
   "outputs": [
    {
     "data": {
      "text/plain": [
       "array([[4.21509616],\n",
       "       [2.77011339]])"
      ]
     },
     "execution_count": 10,
     "metadata": {},
     "output_type": "execute_result"
    }
   ],
   "source": [
    "np.linalg.pinv(X_b).dot(y)"
   ]
  },
  {
   "cell_type": "markdown",
   "metadata": {},
   "source": [
    "Le pseudoinverse en lui-même est calculé à l'aide d'une technique de factorisation matricielle standard appelée SVD (*Standard Value Decomposition*) qui peut décomposer la matrice du JdE **X** en une matrice de multiplication de trois matrices $U \\sum V^{⊺}$ (voir `numpy.linalg.svd()`).\n",
    "\n",
    "Le pseudoinverse est calculé comme $X^{+} = \\sum^{+}U^{⊺}$. Pour calculer la matrice **$\\sum^{+}$**, l'algorithme prend **$\\sum$** et mets à 0 toutes les valeurs plus petites qu'une minuscule valeur seuil, et remplace toutes les valeurs différentes de 0 par leur inverse, pour finalement les transpoer dans la matrice résultante.\n",
    "\n",
    "Cette approche est plus efficace que de calculer l'équiation normale, et permet se charger des cas extrêmes d'une bonne manière : en effet, l'équation normale ne marche pas si la matrice $X^{⊺}X$ n'est pas inversible (c'est à dire singulière), comme si m < n ou si certaines caractéristiques (*features*) sont redondantes, mais que la pseudo-inverse est toujours définie.\n",
    "\n",
    "### Complexité Computationnelle\n",
    "\n",
    "L'équation normale caclue l'inverse de $X^{⊺}X$, qui est une matrice $(n+1)*(n+1)$ (où $n$ est le nombre de caractéristiques (*features*)). La *complexité computationnelle* de l'inversion d'une telle matrice est typiquement en $O(n^{2.4})$ ou $O(n^{3})$, dépendemment de l'implémentation. En d'autres termes, si on double le nombre de caractéristiques (*features*), on multiplie le temps de calcul par environ $2^{2.4} = 5.3$ à $2^{3} = 8$.\n",
    "\n",
    "L'approche SVD utilisée par la classe `LinearRegression` de Scikit-Learn est en $O(n^{2})$. Si on double le nombre de caractéristiques (*features*), on multiplie le temps de calcul par 4.\n",
    "\n",
    "*Attention* : aussi bien l'Équation Normale que l'approche SVD sont très lentes quand le nombre de caractéristiques (*features*) devient grand (environ 100 000). Mais elles sont toutes les deux linéaires en ce qui concerne le nombre d'instances du JdE ($O(m)$), donc elles prennent très bien en charge les grands JdE, à condition qu'on puisse les mettre en mémoire.\n",
    "\n",
    "De plus, une fois qu'on a entraîné nos modèles de Régression Linéaire, les prédictions sont très rapides : la complexité computationnelle est linéaire aussi bien au regard du nombre d'instances qu'on veut prédire ainsi que le nombre de *features*.\n",
    "\n",
    "On va maintenant s'intéresser à d'autres manières bien différentes d'entraîner un modèle de Régression Linéaire, qui seront plus adaptées pour des cas où on a un grand nombre de *features* ou trop d'instances d'entraînement pour rentrer en mémoire.\n",
    "\n",
    "## Descente de gradient (*Gradient descent*)\n",
    "\n",
    "La descente de gradient est un algorithme générique d'optimisation  capable de trouver des solutions optimales à un large champ de problèmes. L'idée générale est de modifier les paramètres de manière itérative afin de minimiser une fonction de coût.\n",
    "\n",
    "Elle mesure le gradient local de la fonction d'erreur par rapport au vecteur paramètre $\\theta$, et va dans le sens du gradient descendant. Une fois la pente nulle, on atteint un minimum.\n",
    "\n",
    "Concrètement, on commence par remplir $\\theta$ de valeurs aléatoires (c'est ce qu'on appelle l'*initialisation aléatoire* (*random initialization*)). Ensuite, on l'améliore graduellement, pas à pas, chaque pas essayant de réduire le coût de la fonction (ex : MSE), jusqu'à ce que l'algorithme *converge* vers un minimum.\n",
    "\n",
    "Un paramètre important de la descente de gradient est la taille des pas, determinée par l'hyperparamètre *taux d'apprentissage* (*learning rate*). Si le taux d'apprentissage est trop petit, alors l'algo va devoir passer par de nombreuses itérations pour converger, ce qui prendra un certain temps.\n",
    "\n",
    "Si le taux d'apprentissage est trop élevé, on peut \"sauter\" de l'autre côté, et même plus haut qu'avant. Cela va faire diverger l'algorithme, avec valeurs de plus en plus larges, l'empêchant de trouver une bonne solution.\n",
    "\n",
    "Enfin, il faut savoir que toutes les fonctions ressemblent à un bol régulier. Il peut y avoir des trous, des crêtes, et des irrégularités, rendant la convergence vers le minimum difficile. On se retrouve parfois un minimum local qui empêche d'accéder au minimum global, en fonction de là où l'algo a commencé, ou encore avec des plateau qui font stagner la recherche.\n",
    "\n",
    "Heureusement, la fonction de coût MSE pour une Régression Linéaire est une *fonction convexe*, ce qui veut dire que si on prend au hasard deux points dans la courbe, la ligne qui le rejoint ne va jamais croiser la courbe. Cela implique qu'il y a seulement un minimum global et pas de minimum local. C'est également une fonction avec une pente qui ne change jamais de manière abrupte. Ces deux faits ont une très bonne conséquence : la Descente de Gradient garanti qu'on va approcher arbitrairement du minimum global (si on attend suffisamment longtemps et si le taux d'apprentissage n'est pas trop élevé).\n",
    "\n",
    "En fait, la fonction de coût a la forme d'un bol qui peut être allongé si les *features* ont des échelles très différentes, ce qui va faire que dans ce cas, il mettra beaucoup plus de temps à atteindre le minimum global. Quand on utilse la Descente de Gradient, il vaut mieux s'assurer qu'on a des *features* avec les mêmes échelles pour éviter ce problème.\n",
    "\n",
    "Entraîner un modèle implique de chercher une combinaison de paramètres du modèle qui minimisent une fonction de coût (sur le JdE). C'est une recherche dans l'*espace des paramètres* : plus un modèle a de paramètres, plus l'espace a de dimensions, et plus dure est la recherche.\n",
    "\n",
    "### Descente de gradient de lot (*Batch Gradient Descent*)\n",
    "\n",
    "Pour implémenter la descente de gradient, on doit calculer le gradient de la fonction de coût pour chaque paramètre $\\theta_{j}$ du modèle. Autrement dit, on doit calculer de combien va changer la fonction de cout si on change $\\theta_{j}$ juste un peu. C'est ce qu'on appelle une *dérivée partielle*.\n",
    "\n",
    "L'équation suivante calcule la dérivée partielle de la fonction de coût par rapport au paramètre $\\theta_{j}$, noté $\\partial MSE(\\theta) / \\partial{\\theta_{j}}$ :\n",
    "\n",
    "$$\n",
    "\\frac{\\partial}{\\partial{\\theta_{j} }}MSE(\\theta) = \\frac{2}{m}\\sum_{i=1}^{m}(\\theta^{⊺}x^{(i)} - y^{(j)})x_{j}^{i}\n",
    "$$\n",
    "\n",
    "Au lieu de calculer ces dérivées partielles individuellement, on peut toutes les calculer d'un coup. Le vecteur gradiant, noté $∇_{\\theta} MSE(\\theta)$ contient toutes les dérivées partielles de la fonction de coût (une pour chaque paramètre du modèle).\n",
    "\n",
    "Une fois qu'on a notre vecteur gradient, qui pointe en haut, il faut juste aller dans l'autre direction et aller vers le bas. Cela implique de soustraire $∇_{\\theta} MSE(\\theta)$ de $\\theta$. C'est ici que le taux d'apprentissage $\\eta$ rentre en jeu : multiplier le vecteur gradient par $\\eta$ pour déterminer la taille du pas vers le bas.\n",
    "\n",
    "Regardons l'implémentation de cet algorithme :"
   ]
  },
  {
   "cell_type": "code",
   "execution_count": 11,
   "metadata": {},
   "outputs": [
    {
     "data": {
      "text/plain": [
       "array([[4.21509616],\n",
       "       [2.77011339]])"
      ]
     },
     "execution_count": 11,
     "metadata": {},
     "output_type": "execute_result"
    }
   ],
   "source": [
    "eta = 0.1   # taux d'apprentissage\n",
    "n_iterations = 1000\n",
    "m = 100\n",
    "\n",
    "theta = np.random.randn(2, 1)   # initialisation aléatoire\n",
    "\n",
    "for iterations in range(n_iterations):\n",
    "    gradients = 2/m * X_b.T.dot(X_b.dot(theta) - y)\n",
    "    theta = theta - eta * gradients\n",
    "\n",
    "theta"
   ]
  },
  {
   "cell_type": "code",
   "execution_count": 12,
   "metadata": {},
   "outputs": [
    {
     "data": {
      "text/plain": [
       "array([[4.21509616],\n",
       "       [9.75532293]])"
      ]
     },
     "execution_count": 12,
     "metadata": {},
     "output_type": "execute_result"
    }
   ],
   "source": [
    "X_new_b.dot(theta)"
   ]
  },
  {
   "cell_type": "markdown",
   "metadata": {},
   "source": [
    "On retrouve exactement le même résultat qu'avec l'Équation Normale. La descente de gradient a parfaitement fonctionné.\n",
    "\n",
    "Mais que se serait-il passé si on avai utilisé un taux d'apprentissage $\\eta$ différent ? Regardons pour trois *eta* différents (les lignes en pointillés représentent le point de départ):"
   ]
  },
  {
   "cell_type": "code",
   "execution_count": 13,
   "metadata": {},
   "outputs": [],
   "source": [
    "theta_path_bgd = []\n",
    "\n",
    "def plot_gradient_descent(theta, eta, theta_path=None):\n",
    "    m = len(X_b)\n",
    "    plt.plot(X, y, \"b.\")\n",
    "    n_iterations = 1000\n",
    "    for iteration in range(n_iterations):\n",
    "        if iteration < 10:\n",
    "            y_predict = X_new_b.dot(theta)\n",
    "            style = \"b-\" if iteration > 0 else \"r--\"\n",
    "            plt.plot(X_new, y_predict, style)\n",
    "        gradients = 2/m * X_b.T.dot(X_b.dot(theta) - y)\n",
    "        theta = theta - eta * gradients\n",
    "        if theta_path is not None:\n",
    "            theta_path.append(theta)\n",
    "    plt.xlabel(\"$x_1$\", fontsize=18)\n",
    "    plt.axis([0, 2, 0 ,15])\n",
    "    plt.title(r\"$\\eta = {}$\".format(eta), fontsize=16)"
   ]
  },
  {
   "cell_type": "code",
   "execution_count": 14,
   "metadata": {},
   "outputs": [
    {
     "name": "stdout",
     "output_type": "stream",
     "text": [
      "Saving figure gradient_descent_plot\n"
     ]
    },
    {
     "data": {
      "image/png": "[encoded data removed]",
      "text/plain": [
       "<Figure size 720x288 with 3 Axes>"
      ]
     },
     "metadata": {
      "needs_background": "light"
     },
     "output_type": "display_data"
    }
   ],
   "source": [
    "np.random.seed(42)\n",
    "theta = np.random.randn(2,1)\n",
    "\n",
    "plt.figure(figsize=(10,4))\n",
    "plt.subplot(131); plot_gradient_descent(theta, eta=0.02)\n",
    "plt.ylabel(\"$y$\", rotation=0, fontsize=18)\n",
    "plt.subplot(132); plot_gradient_descent(theta, eta=0.1, theta_path=theta_path_bgd)\n",
    "plt.subplot(133); plot_gradient_descent(theta, eta=0.5)\n",
    "\n",
    "save_fig(\"gradient_descent_plot\")\n",
    "plt.show()"
   ]
  },
  {
   "cell_type": "markdown",
   "metadata": {},
   "source": [
    "Sur la gauche, le taux d'apprentissage est trop bas : l'algo va finir par atteindre une solution, mais cela va prendre beaucoup de temps.\n",
    "\n",
    "Au milieu, le taux d'apprentissage est très bon : en seulement quelques itérations, on converge déjà vers une solution.\n",
    "\n",
    "À droite, le taux d'apprentissage est trop élevé : l'algo diverge, fait des \"sauts\" et s'éloigne de plus en plus de la solution à chaque pas.\n",
    "\n",
    "Pour trouver le bon taux d'apprentissage, on peut utiliser la *grid search* (cf Ch2). Cependant, on peut vouloir limiter le nombre d'itérations pour que la *grid search* puisse éliminer les modèles qui vont mettre trop de temps à converger.\n",
    "\n",
    "On peut se demander comment définir le nombre d'itérations. Si c'est trop bas, on risque de rester trop loin de la solution optimale quand l'algo s'arrête ; mais s'il est trop haut, on va perdre du temps alors que les paramètres du modèle ne changent plus. Une solution simple est de fixer un très grand nombre d'itération et d'interrompre l'algo quand le vecteur gradient (*gradient vector*) devient minuscule, c'est à dire quand sa norme devient inférieure à un très petit nombre $\\epsilon$ appelé *tolérance*, parce que c'est ce qui se produit quand la Descente de gradient a (presque) atteint le minimum.\n",
    "\n",
    "### Convergence Rate\n",
    "\n",
    "Quand la fonction de coût est convexe et que sa pente ne change pas de manière abrupte (comme c'est le cas avec la fonction de coût MSE), le *batch gradient descent* avec un taux d'apprentissage fixe va finir par converger vers la solution optimale, mais cela peut prendre beaucoup de temps : ça peut prendre $O(1/\\epsilon)$ itérations pour atteindre le point optimal dans une fourchette $\\epsilon$, en fonction de la forme de la fonction de coût. Si on doit diviser la tolérance ($\\epsilon$) par 10, pour avoir une solution plus précise, alors l'algorithme peut avoir à tourner 10 fois plus longtemps.\n",
    "\n",
    "\n",
    "## Décente de gradient stochastique (*Stochastic gradient descent*)\n",
    "\n",
    "Le problème principal avec la *batch gradient descent* est qu'elle utilise tout le JdE pour calculer les gradients à chaque étape, ce qui la rend très lente quand on a un gros JdE.\n",
    "\n",
    "A l'opposé, la *sotchastic gradient descent* choisit aléatoirement une instance du JdE à chaque étape et calcule le gradient basé sur cette seule instance. Cela fait gagner énormément de temps parce que l'algo n'a a travailler qu'avec très peu de données à chaque itération. Cela permet aussi de travailler sur des très gros JdE, puisque seulement une seule instance a besoin d'être en mémoire à chaque itération (le SGD peut être implémenté comme un algo *out-of-core*).\n",
    "\n",
    "D'un autre côté, à cause de sa nature stochastique (c'est-à-dire aléatoire), c'est algorithme est beaucoup moins régulier que le BGD : au lieu de décroître doucement jusqu'à ce qu'il atteigne le minimum, la fonction de coût va sauter de haut en bas, décroissement seulement en moyenne. Avec le temps, la fonction va finir par arriver vers le minimum, mais même à ce moment, elle va continuer à \"sauter\", sans jamais s'arrêter. Donc une fois que l'algo s'arrête, les valeurs des paramètres sont bonnes, mais pas optimales.\n",
    "\n",
    "Quand la fonction de coût est très irrégulière, cela peut en fait aider l'algo à sortir des minima locaux, donc le SGD a une meilleure chance de trouver un minimum global que le BGD.\n",
    "\n",
    "Ainsi, le hasard est une bonne chose pour échaper d'un optimal local, mais mauvais parce qu'il implique que l'algo ne peut jamais se stabiliser à un minimum. Une solution à ce problème est de graduellement réduire le taux d'apprentissage. Les pas commencent en étant grand (ce qui permet de faire des progrès rapides et d'échapper au minima locaux), puis deviennent de plus en plus petit, permettant à l'algo de se stabiliser au minimum global. Ce procédé est proche du *simulated annealing* (recuit simulé), un algo inspiré du recuit en métallurgie, où le métal en fusion est refroidi lentement. La fonction qui détermine le taux d'apprentissage à chaque itération est appelée *learning schedule*. Si le taux d'apprentissage est réduit trop rapidement, on peut se retrouver bloqué dans un minimum local, ou même bloqué à mi-chemin du minimum. Si le taux d'apprentissage est réduit trop lentement, on peut sauter autour du minimum pendant un long moment et se retrouver avec une solution sous optimale si on arrête l'entraînement trop tôt.\n",
    "\n",
    "Le code suivant implémente une SGD utilisant une *learning schedule* simple. Par convention, on itère par tour de $m$ itérations, chaque tour étant appelé une *epoch*."
   ]
  },
  {
   "cell_type": "code",
   "execution_count": 18,
   "metadata": {},
   "outputs": [],
   "source": [
    "theta_path_sgd = []\n",
    "m = len(X_b)\n",
    "np.random.seed(42)"
   ]
  },
  {
   "cell_type": "code",
   "execution_count": 22,
   "metadata": {},
   "outputs": [
    {
     "name": "stdout",
     "output_type": "stream",
     "text": [
      "Saving figure sgd_plot\n"
     ]
    },
    {
     "data": {
      "image/png": "[encoded data removed]",
      "text/plain": [
       "<Figure size 432x288 with 1 Axes>"
      ]
     },
     "metadata": {
      "needs_background": "light"
     },
     "output_type": "display_data"
    }
   ],
   "source": [
    "n_epochs = 50\n",
    "t0, t1 = 5, 50  # hyperparamètres du learning schedule\n",
    "\n",
    "def learning_schedule(t):\n",
    "    return t0 / (t +t1)\n",
    "\n",
    "theta = np.random.randn(2,1)\n",
    "\n",
    "for epoch in range(n_epochs):\n",
    "    for i in range(m):\n",
    "        if epoch == 0 and i < 20:                    # not shown in the book\n",
    "            y_predict = X_new_b.dot(theta)           # not shown\n",
    "            style = \"b-\" if i > 0 else \"r--\"         # not shown\n",
    "            plt.plot(X_new, y_predict, style)        # not shown\n",
    "        random_index = np.random.randint(m)\n",
    "        xi = X_b[random_index:random_index+1]\n",
    "        yi = y[random_index:random_index+1]\n",
    "        gradients = 2 * xi.T.dot(xi.dot(theta) - yi)\n",
    "        eta = learning_schedule(epoch * m + i)\n",
    "        theta = theta - eta * gradients\n",
    "        theta_path_sgd.append(theta)                 # not shown\n",
    "\n",
    "plt.plot(X, y, \"b.\")                                 # not shown\n",
    "plt.xlabel(\"$x_1$\", fontsize=18)                     # not shown\n",
    "plt.ylabel(\"$y$\", rotation=0, fontsize=18)           # not shown\n",
    "plt.axis([0, 2, 0, 15])                              # not shown\n",
    "save_fig(\"sgd_plot\")                                 # not shown\n",
    "plt.show()                                           # not shown"
   ]
  },
  {
   "cell_type": "markdown",
   "metadata": {},
   "source": [
    "Le graphe ci-dessus montre les 20 premières étapes de l'entraînement ; notons l'irrégularité des étapes.\n",
    "\n",
    "Alors que le code du BGD itérait 1000 fois sur tout le jeu d'entraînement, ce code ne passe par le jeu d'entraînement que 50 fois et atteint une très bonne solution."
   ]
  },
  {
   "cell_type": "code",
   "execution_count": 20,
   "metadata": {},
   "outputs": [
    {
     "data": {
      "text/plain": [
       "array([[4.21076011],\n",
       "       [2.74856079]])"
      ]
     },
     "execution_count": 20,
     "metadata": {},
     "output_type": "execute_result"
    }
   ],
   "source": [
    "theta"
   ]
  },
  {
   "cell_type": "markdown",
   "metadata": {},
   "source": [
    "Comme les instance sont choisies aléatoirement, certaines instances peuvent être choisies plusieurs fois par *epoch*, alors que d'autres peuvent ne pas l'être du tout. Si on veut être sûr que l'algo passe par toutes les instances à chaque *epoch*, une autre approche est de mélanger le JdE (il faut s'assurer de mélanger la caractéristique d'entrée *input feature* et les labels conjointement), puis passer instance par instance, mélanger à nouveau, et ainsi de suite. Cepndant, cette approche à une convergence plus lente.\n",
    "\n",
    "**Attention** : Quand on utilse une SGD, les instances d'entraînement doivent être indépendantes et identiquement distribuées (IID) pour s'assurer que les paramètres soient tirés vers l'optimum global en moyenne. Une manière simple de s'assurer cela est de mélanger les instances pendant l'entraînement, par exemple en choisissant une instance aléatoirement, ou en faisant un mélange sur le JdE au début de chaque *epoch*. Si on ne mélange pas les instances, par exemple si elles sont triées par label, alors le SGD va commencer par optimiser pour un label, puis le suivant, et ainsi de suite, et il ne va jamais se stabiliser proche du minimum global.\n",
    "\n",
    "Pour faire une Régression Linéaire en utilisant le SGD avec Scikit-Learn, on peut utiliser la classe `SGDRegressor` qui par défaut optimise l'erreur au carré de la fonction de coût.\n",
    "\n",
    "Le code suivant tourne pour un maximum de 1000 *epochs* ou jusqu'à ce que la perte tombe à moins de 0.001 pendant une *epoch* (`max_iter=100, tol=1e-3`). Il commence avec un taux d'apprentissage de 0.1 (`eta0=0.1`) en utilisant le *learning schedule* par défaut (différent de celui d'avant). Enfin, il n'ytilise aucune régularisation (`penalty=None`) :"
   ]
  },
  {
   "cell_type": "code",
   "execution_count": 25,
   "metadata": {},
   "outputs": [
    {
     "data": {
      "text/plain": [
       "SGDRegressor(eta0=0.1, penalty=None, random_state=42)"
      ]
     },
     "execution_count": 25,
     "metadata": {},
     "output_type": "execute_result"
    }
   ],
   "source": [
    "from sklearn.linear_model import SGDRegressor\n",
    "sgd_reg = SGDRegressor(max_iter=1000, tol=1e-3, penalty=None, eta0=0.1, random_state=42)\n",
    "sgd_reg.fit(X, y.ravel())"
   ]
  },
  {
   "cell_type": "markdown",
   "metadata": {},
   "source": [
    "Une fois de plus, on trouve une solution très porhce de celle retournée par l'Équation Normale :"
   ]
  },
  {
   "cell_type": "code",
   "execution_count": 26,
   "metadata": {},
   "outputs": [
    {
     "data": {
      "text/plain": [
       "(array([4.24365286]), array([2.8250878]))"
      ]
     },
     "execution_count": 26,
     "metadata": {},
     "output_type": "execute_result"
    }
   ],
   "source": [
    "sgd_reg.intercept_, sgd_reg.coef_"
   ]
  },
  {
   "cell_type": "markdown",
   "metadata": {},
   "source": [
    "## Mini-batch Gradient descent\n",
    "\n",
    "Le dernier algo de GD qu'on va regarder est le *mini-batch gradient descent* (mBGD).\n",
    "\n",
    "À chaque étape, au lieu de calculer le gradient en se basant sur tout le JdE (comme dans le BGD), ou seulement sur une instance (comme le SGD), le mBGD calcule les gradients sur un petit jeu d'instances aléatoires appelé *mini-batch*. L'avantage principal du mBGD sur le SGD est qu'on peut obtenir un boost des performance à partir d'optiisation hardware pour les opérations sur les matrices, particulièrement si on utilise les GPU.\n",
    "\n",
    "La progression de l'algorithme dans le paramètre spacial est moins erratique qu'avec le SGD, particulièrement avec des mini-batches particulièrement gros. Résultat, la mBGD va terminer en tournant un peu plus proche du minimum que le SGD, mais ce sera peut-être plus dur pour lui de fuir les minima locaux (dans le cas de problèmes qui peuvent souffrir de minima locaux, ce qui n'est pas le cas de la régression linéaire)."
   ]
  },
  {
   "cell_type": "code",
   "execution_count": 28,
   "metadata": {},
   "outputs": [],
   "source": [
    "theta_path_mgd = []\n",
    "\n",
    "n_iterations = 50\n",
    "minibatch_size = 20\n",
    "\n",
    "np.random.seed(42)\n",
    "theta = np.random.randn(2,1)\n",
    "\n",
    "t0, t1 = 200, 1000\n",
    "\n",
    "t = 0\n",
    "for epoch in range(n_iterations):\n",
    "    shuffled_indices = np.random.permutation(m)\n",
    "    X_b_shuffled = X_b[shuffled_indices]\n",
    "    y_shuffled = y[shuffled_indices]\n",
    "    for i in range(0, m, minibatch_size):\n",
    "        t += 1\n",
    "        xi = X_b_shuffled[i:i+minibatch_size]\n",
    "        yi = y_shuffled[i:i+minibatch_size]\n",
    "        gradients = 2/minibatch_size * xi.T.dot(xi.dot(theta) -yi)\n",
    "        eta = learning_schedule(t)\n",
    "        theta = theta - eta * gradients\n",
    "        theta_path_mgd.append(theta)"
   ]
  },
  {
   "cell_type": "code",
   "execution_count": 30,
   "metadata": {},
   "outputs": [
    {
     "data": {
      "text/plain": [
       "array([[4.25214635],\n",
       "       [2.7896408 ]])"
      ]
     },
     "execution_count": 30,
     "metadata": {},
     "output_type": "execute_result"
    }
   ],
   "source": [
    "theta"
   ]
  },
  {
   "cell_type": "markdown",
   "metadata": {},
   "source": [
    "Regardons à présent les chemins pris par nos trois algo GD dans l'espace des paramètres durant l'entraînement :"
   ]
  },
  {
   "cell_type": "code",
   "execution_count": 31,
   "metadata": {},
   "outputs": [],
   "source": [
    "theta_path_bgd = np.array(theta_path_bgd)\n",
    "theta_path_sgd = np.array(theta_path_sgd)\n",
    "theta_path_mgd = np.array(theta_path_mgd)"
   ]
  },
  {
   "cell_type": "code",
   "execution_count": 32,
   "metadata": {},
   "outputs": [
    {
     "name": "stdout",
     "output_type": "stream",
     "text": [
      "Saving figure gradient_descent_paths_plot\n"
     ]
    },
    {
     "data": {
      "image/png": "[encoded data removed]",
      "text/plain": [
       "<Figure size 504x288 with 1 Axes>"
      ]
     },
     "metadata": {
      "needs_background": "light"
     },
     "output_type": "display_data"
    }
   ],
   "source": [
    "plt.figure(figsize=(7,4))\n",
    "plt.plot(theta_path_sgd[:, 0], theta_path_sgd[:, 1], \"r-s\", linewidth=1, label=\"Stochastic\")\n",
    "plt.plot(theta_path_mgd[:, 0], theta_path_mgd[:, 1], \"g-+\", linewidth=2, label=\"Mini-batch\")\n",
    "plt.plot(theta_path_bgd[:, 0], theta_path_bgd[:, 1], \"b-o\", linewidth=3, label=\"Batch\")\n",
    "plt.legend(loc=\"upper left\", fontsize=16)\n",
    "plt.xlabel(r\"$\\theta_0$\", fontsize=20)\n",
    "plt.ylabel(r\"$\\theta_1$   \", fontsize=20, rotation=0)\n",
    "plt.axis([2.5, 4.5, 2.3, 3.9])\n",
    "save_fig(\"gradient_descent_paths_plot\")\n",
    "plt.show()"
   ]
  },
  {
   "cell_type": "markdown",
   "metadata": {},
   "source": [
    "Les trois chemins finissent près du minium, mais BGD s'arrête au minimum, alors que SGQ et mBGD continuent tout les deux à tourner autour. Cependant, il ne faut pas oublier que la BGD prend beaucoup de temps à chaque étape, et que SGD et mBGD peuvent aussi atteindre le minimum si on utilise un bon *learning schedule*.\n",
    "\n",
    "Comparons les algorithmes qu'on a vu pour la Régression Linéaire ($m$ est le nombre d'instances d'entraînement et $n$ le nombre de caractéristiques) :\n",
    "\n",
    "| Algorithme       | m grand | Support OoC | n grand | Hp | scalling required | Scikit-Learn       |\n",
    "|------------------|---------|-------------|---------|----|-------------------|--------------------|\n",
    "| Équation normale | rapide  | non         | lent    | 0  | non               | N/A                |\n",
    "| SVD              | rapide  | non         | lent    | 0  | non               | `LinearRegression` |\n",
    "| BGD              | lent    | non         | rapide  | 2  | oui               | `SGDRegressor`     |\n",
    "| SGD              | rapide  | oui         | rapide  | ≥2 | oui               | `SGDRegressor`     |\n",
    "| mGD              | rapide  | oui         | rapide  | ≥2 | oui               | `SGDRegressor`     |\n",
    "\n",
    "\n",
    "## Régression polynomiale (*Polynomial Regression*)\n",
    "\n",
    "Et si nos données étaient plus complexes qu'une simple ligne ? Étrangement, on peut utiliser un modèle linéaire pour ajuster des données non linéaires. Une manière simple de faire ça est d'ajouter les puissances de chaque caractéristique comme de nouvelles caractéristiques, puis d'entraîner un modèle linéaire sur ce jeu de caractéristiques étendu. Cette technique est appelée la *Régression polynomiale*.\n",
    "\n",
    "Exemple : d'abord, générons des données non-linéaires, basées sur une simple *équation quadratique* ($y = ax^{2} + bx + c$)  et du bruit :"
   ]
  },
  {
   "cell_type": "code",
   "execution_count": 33,
   "metadata": {},
   "outputs": [],
   "source": [
    "m = 100\n",
    "X = 6 * np.random.rand(m, 1) -3\n",
    "y = 0.5 * X**2 + 2 + np.random.randn(m, 1)"
   ]
  },
  {
   "cell_type": "code",
   "execution_count": 34,
   "metadata": {},
   "outputs": [
    {
     "name": "stdout",
     "output_type": "stream",
     "text": [
      "Saving figure quadratic_data_plot\n"
     ]
    },
    {
     "data": {
      "image/png": "[encoded data removed]",
      "text/plain": [
       "<Figure size 432x288 with 1 Axes>"
      ]
     },
     "metadata": {
      "needs_background": "light"
     },
     "output_type": "display_data"
    }
   ],
   "source": [
    "plt.plot(X, y, \"b.\")\n",
    "plt.xlabel(\"$x_1$\", fontsize=18)\n",
    "plt.ylabel(\"$y$\", rotation=0, fontsize=18)\n",
    "plt.axis([-3, 3, 0, 10])\n",
    "save_fig(\"quadratic_data_plot\")\n",
    "plt.show()"
   ]
  },
  {
   "cell_type": "markdown",
   "metadata": {},
   "source": [
    "Une ligne droite ne s'ajustera jamais à ce genre de données. Donc nous allons utiliser la classe `PolynomialFeatures` de Scikit-Learn pour transformer nos données d'entraînement, ajouter le carré (second degré polynomial) de chaque caractérisitques dans le JdE en tant que nouvelle caractéristiques. "
   ]
  }
 ],
 "metadata": {
  "interpreter": {
   "hash": "916dbcbb3f70747c44a77c7bcd40155683ae19c65e1c03b4aa3499c5328201f1"
  },
  "kernelspec": {
   "display_name": "Python 3.8.10 64-bit",
   "language": "python",
   "name": "python3"
  },
  "language_info": {
   "codemirror_mode": {
    "name": "ipython",
    "version": 3
   },
   "file_extension": ".py",
   "mimetype": "text/x-python",
   "name": "python",
   "nbconvert_exporter": "python",
   "pygments_lexer": "ipython3",
   "version": "3.8.10"
  },
  "orig_nbformat": 4
 },
 "nbformat": 4,
 "nbformat_minor": 2
}
