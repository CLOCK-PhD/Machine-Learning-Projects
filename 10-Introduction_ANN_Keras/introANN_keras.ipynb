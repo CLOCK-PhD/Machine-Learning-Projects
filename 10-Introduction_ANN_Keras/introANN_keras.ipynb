{
 "cells": [
  {
   "cell_type": "code",
   "execution_count": 2,
   "metadata": {},
   "outputs": [],
   "source": [
    "## Setup\n",
    "\n",
    "#python >= 3.5 nécessaire\n",
    "import sys\n",
    "assert sys.version_info >= (3, 5)\n",
    "\n",
    "#scikit-learn >= 0.20 nécessaire\n",
    "import sklearn\n",
    "assert sklearn.__version__ >= \"0.20\"\n",
    "\n",
    "# Autres imports\n",
    "import numpy as np\n",
    "import os\n",
    "\n",
    "# pour rendre les output stables au fil des runs\n",
    "np.random.seed(42)\n",
    "\n",
    "# pour tracer de jolis graphes\n",
    "%matplotlib inline\n",
    "import matplotlib as mpl\n",
    "import matplotlib.pyplot as plt\n",
    "mpl.rc('axes', labelsize=14)\n",
    "mpl.rc('xtick', labelsize=12)\n",
    "mpl.rc('ytick', labelsize=12)\n",
    "\n",
    "# où sauvegarder les figures\n",
    "PROJECT_ROOT_DIR = \"..\"\n",
    "CHAPTER_ID = \"ann\"\n",
    "IMAGES_PATH = os.path.join(PROJECT_ROOT_DIR, \"images\", CHAPTER_ID)\n",
    "os.makedirs(IMAGES_PATH, exist_ok=True)\n",
    "\n",
    "def save_fig(fig_id, tight_layout=True, fig_extension=\"png\", resolution=300):\n",
    "    path = os.path.join(IMAGES_PATH, fig_id + \".\" + fig_extension)\n",
    "    print(\"Saving figure\", fig_id)\n",
    "    if tight_layout:\n",
    "        plt.tight_layout()\n",
    "    plt.savefig(path, format=fig_extension, dpi=resolution)\n",
    "\n",
    "# Ignore useless warnings (see SciPy issue #5998)\n",
    "import warnings\n",
    "warnings.filterwarnings(action=\"ignore\", message=\"^internal gelsd\")"
   ]
  },
  {
   "cell_type": "code",
   "execution_count": 3,
   "metadata": {},
   "outputs": [],
   "source": [
    "import tensorflow as tf\n",
    "from tensorflow import keras"
   ]
  },
  {
   "cell_type": "code",
   "execution_count": 4,
   "metadata": {},
   "outputs": [
    {
     "data": {
      "text/plain": [
       "'2.8.0'"
      ]
     },
     "execution_count": 4,
     "metadata": {},
     "output_type": "execute_result"
    }
   ],
   "source": [
    "tf.__version__"
   ]
  },
  {
   "cell_type": "code",
   "execution_count": 5,
   "metadata": {},
   "outputs": [
    {
     "data": {
      "text/plain": [
       "'2.8.0'"
      ]
     },
     "execution_count": 5,
     "metadata": {},
     "output_type": "execute_result"
    }
   ],
   "source": [
    "keras.__version__"
   ]
  },
  {
   "cell_type": "markdown",
   "metadata": {},
   "source": [
    "## Construire un classificateur d'image en utilisant une sequential API\n",
    "\n",
    "On utilise Fashion MNIST qui a la même forme que MNIST, mais les images représentent des objets de mode au lieu de chiffres. Chaque classe est plus diverse, et le problème est beaucoup plus complexe."
   ]
  },
  {
   "cell_type": "code",
   "execution_count": 6,
   "metadata": {},
   "outputs": [],
   "source": [
    "fashion_mnist = keras.datasets.fashion_mnist\n",
    "\n",
    "(X_train_full, y_train_full), (X_test, y_test) = fashion_mnist.load_data()"
   ]
  },
  {
   "cell_type": "code",
   "execution_count": 7,
   "metadata": {},
   "outputs": [
    {
     "data": {
      "text/plain": [
       "(60000, 28, 28)"
      ]
     },
     "execution_count": 7,
     "metadata": {},
     "output_type": "execute_result"
    }
   ],
   "source": [
    "X_train_full.shape"
   ]
  },
  {
   "cell_type": "code",
   "execution_count": 8,
   "metadata": {},
   "outputs": [
    {
     "data": {
      "text/plain": [
       "dtype('uint8')"
      ]
     },
     "execution_count": 8,
     "metadata": {},
     "output_type": "execute_result"
    }
   ],
   "source": [
    "X_train_full.dtype"
   ]
  },
  {
   "cell_type": "markdown",
   "metadata": {},
   "source": [
    "Création du jeu de validation"
   ]
  },
  {
   "cell_type": "code",
   "execution_count": 9,
   "metadata": {},
   "outputs": [],
   "source": [
    "X_valid, X_train = X_train_full[:5000] / 255.0, X_train_full[5000:] / 255.0"
   ]
  },
  {
   "cell_type": "code",
   "execution_count": 10,
   "metadata": {},
   "outputs": [],
   "source": [
    "y_valid, y_train = y_train_full[:5000], y_train_full[5000:]"
   ]
  },
  {
   "cell_type": "code",
   "execution_count": 11,
   "metadata": {},
   "outputs": [],
   "source": [
    "X_test = X_test / 255"
   ]
  },
  {
   "cell_type": "code",
   "execution_count": 12,
   "metadata": {},
   "outputs": [
    {
     "data": {
      "image/png": "[encoded data removed]",
      "text/plain": [
       "<Figure size 432x288 with 1 Axes>"
      ]
     },
     "metadata": {
      "needs_background": "light"
     },
     "output_type": "display_data"
    }
   ],
   "source": [
    "plt.imshow(X_train[0], cmap=\"binary\")\n",
    "plt.axis('off')\n",
    "plt.show()"
   ]
  },
  {
   "cell_type": "code",
   "execution_count": 13,
   "metadata": {},
   "outputs": [
    {
     "data": {
      "text/plain": [
       "array([4, 0, 7, ..., 3, 0, 5], dtype=uint8)"
      ]
     },
     "execution_count": 13,
     "metadata": {},
     "output_type": "execute_result"
    }
   ],
   "source": [
    "y_train"
   ]
  },
  {
   "cell_type": "code",
   "execution_count": 14,
   "metadata": {},
   "outputs": [],
   "source": [
    "# Création des classes Fashion MNIST\n",
    "\n",
    "class_names = [\"T-shir/top\", \"Trouser\", \"Pullover\", \"Dress\", \"Coat\", \"Sandal\", \"Shirt\", \"Sneaker\", \"Bag\", \"Ankle boot\"]"
   ]
  },
  {
   "cell_type": "code",
   "execution_count": 15,
   "metadata": {},
   "outputs": [
    {
     "data": {
      "text/plain": [
       "'Coat'"
      ]
     },
     "execution_count": 15,
     "metadata": {},
     "output_type": "execute_result"
    }
   ],
   "source": [
    "# Première image du JdE :\n",
    "class_names[y_train[0]]"
   ]
  },
  {
   "cell_type": "code",
   "execution_count": 16,
   "metadata": {},
   "outputs": [
    {
     "data": {
      "text/plain": [
       "(5000, 28, 28)"
      ]
     },
     "execution_count": 16,
     "metadata": {},
     "output_type": "execute_result"
    }
   ],
   "source": [
    "X_valid.shape"
   ]
  },
  {
   "cell_type": "code",
   "execution_count": 17,
   "metadata": {},
   "outputs": [
    {
     "data": {
      "text/plain": [
       "(10000, 28, 28)"
      ]
     },
     "execution_count": 17,
     "metadata": {},
     "output_type": "execute_result"
    }
   ],
   "source": [
    "X_test.shape"
   ]
  },
  {
   "cell_type": "code",
   "execution_count": 18,
   "metadata": {},
   "outputs": [
    {
     "name": "stdout",
     "output_type": "stream",
     "text": [
      "Saving figure fashion_mnist_diagram\n"
     ]
    },
    {
     "data": {
      "image/png": "[encoded data removed]",
      "text/plain": [
       "<Figure size 864x345.6 with 40 Axes>"
      ]
     },
     "metadata": {
      "needs_background": "light"
     },
     "output_type": "display_data"
    }
   ],
   "source": [
    "# Echantillon du dataset\n",
    "\n",
    "n_rows = 4\n",
    "n_cols = 10\n",
    "plt.figure(figsize=(n_cols * 1.2, n_rows * 1.2))\n",
    "for row in range(n_rows):\n",
    "    for col in range(n_cols):\n",
    "        index = n_cols * row + col\n",
    "        plt.subplot(n_rows, n_cols, index + 1)\n",
    "        plt.imshow(X_train[index], cmap=\"binary\", interpolation=\"nearest\")\n",
    "        plt.axis('off')\n",
    "        plt.title(class_names[y_train[index]], fontsize=12)\n",
    "plt.subplots_adjust(wspace=0.2, hspace=0.5)\n",
    "save_fig('fashion_mnist_diagram', tight_layout=False)\n",
    "plt.show()"
   ]
  },
  {
   "cell_type": "code",
   "execution_count": 19,
   "metadata": {},
   "outputs": [],
   "source": [
    "# Construction du NN :\n",
    "#   MLP de classification avec deux hidden layers\n",
    "\n",
    "model = keras.models.Sequential()   # Crée un modèle séquentiel (sequential API)\n",
    "model.add(keras.layers.Flatten(input_shape=[28,28]))    # Première couche; flatten : image -> tab 1D + taille image\n",
    "model.add(keras.layers.Dense(300, activation=\"relu\"))   # couche cachée de 300 neurones avec relu comme fonction d'activation\n",
    "model.add(keras.layers.Dense(100, activation=\"relu\"))   # Pareil avec 100 neurones\n",
    "model.add(keras.layers.Dense(10, activation=\"softmax\")) # Output layer de 10 neurones (1/classe) avec softmax actfct car classes exclusives"
   ]
  },
  {
   "cell_type": "code",
   "execution_count": 20,
   "metadata": {},
   "outputs": [],
   "source": [
    "np.random.seed(42)\n",
    "tf.random.set_seed(42)"
   ]
  },
  {
   "cell_type": "markdown",
   "metadata": {},
   "source": [
    "On peut écrire plus rapidement avec cette forme :"
   ]
  },
  {
   "cell_type": "code",
   "execution_count": 21,
   "metadata": {},
   "outputs": [
    {
     "data": {
      "text/plain": [
       "'model = keras.models.Sequential([\\n    keras.layers.Flatten(input_shape=[20,28]),\\n    keras.layers.Dense(300, activation=\"relu\"),\\n    keras.layers.Dense(100, activation=\"relu\"),\\n    keras.layers.Dense(10, activation=\"softmax\"),\\n])'"
      ]
     },
     "execution_count": 21,
     "metadata": {},
     "output_type": "execute_result"
    }
   ],
   "source": [
    "\"\"\"model = keras.models.Sequential([\n",
    "    keras.layers.Flatten(input_shape=[20,28]),\n",
    "    keras.layers.Dense(300, activation=\"relu\"),\n",
    "    keras.layers.Dense(100, activation=\"relu\"),\n",
    "    keras.layers.Dense(10, activation=\"softmax\"),\n",
    "])\"\"\""
   ]
  },
  {
   "cell_type": "code",
   "execution_count": 22,
   "metadata": {},
   "outputs": [
    {
     "data": {
      "text/plain": [
       "[<keras.layers.core.flatten.Flatten at 0x7f39452597c0>,\n",
       " <keras.layers.core.dense.Dense at 0x7f3945270520>,\n",
       " <keras.layers.core.dense.Dense at 0x7f39441fc130>,\n",
       " <keras.layers.core.dense.Dense at 0x7f39441fcbb0>]"
      ]
     },
     "execution_count": 22,
     "metadata": {},
     "output_type": "execute_result"
    }
   ],
   "source": [
    "model.layers"
   ]
  },
  {
   "cell_type": "code",
   "execution_count": 23,
   "metadata": {},
   "outputs": [
    {
     "name": "stdout",
     "output_type": "stream",
     "text": [
      "Model: \"sequential\"\n",
      "_________________________________________________________________\n",
      " Layer (type)                Output Shape              Param #   \n",
      "=================================================================\n",
      " flatten (Flatten)           (None, 784)               0         \n",
      "                                                                 \n",
      " dense (Dense)               (None, 300)               235500    \n",
      "                                                                 \n",
      " dense_1 (Dense)             (None, 100)               30100     \n",
      "                                                                 \n",
      " dense_2 (Dense)             (None, 10)                1010      \n",
      "                                                                 \n",
      "=================================================================\n",
      "Total params: 266,610\n",
      "Trainable params: 266,610\n",
      "Non-trainable params: 0\n",
      "_________________________________________________________________\n"
     ]
    }
   ],
   "source": [
    "model.summary()"
   ]
  },
  {
   "cell_type": "code",
   "execution_count": 24,
   "metadata": {},
   "outputs": [
    {
     "data": {
      "image/png": "[encoded data removed]",
      "text/plain": [
       "<IPython.core.display.Image object>"
      ]
     },
     "execution_count": 24,
     "metadata": {},
     "output_type": "execute_result"
    }
   ],
   "source": [
    "keras.utils.plot_model(model, \"my_mnist_model.png\", show_shapes=True)"
   ]
  },
  {
   "cell_type": "code",
   "execution_count": 25,
   "metadata": {},
   "outputs": [
    {
     "data": {
      "text/plain": [
       "'dense'"
      ]
     },
     "execution_count": 25,
     "metadata": {},
     "output_type": "execute_result"
    }
   ],
   "source": [
    "hidden1 = model.layers[1]\n",
    "hidden1.name"
   ]
  },
  {
   "cell_type": "code",
   "execution_count": 26,
   "metadata": {},
   "outputs": [
    {
     "data": {
      "text/plain": [
       "True"
      ]
     },
     "execution_count": 26,
     "metadata": {},
     "output_type": "execute_result"
    }
   ],
   "source": [
    "model.get_layer('dense') is hidden1"
   ]
  },
  {
   "cell_type": "code",
   "execution_count": 27,
   "metadata": {},
   "outputs": [
    {
     "data": {
      "text/plain": [
       "array([[ 0.00345001,  0.03906488, -0.00860477, ..., -0.01431732,\n",
       "         0.01007375, -0.04536171],\n",
       "       [-0.03421144, -0.01415566,  0.00210194, ...,  0.00597785,\n",
       "         0.01081665,  0.00822836],\n",
       "       [ 0.06223762,  0.01750418, -0.01628998, ..., -0.02498928,\n",
       "        -0.03542241, -0.01588554],\n",
       "       ...,\n",
       "       [ 0.01112796,  0.02692425, -0.02590408, ...,  0.02467914,\n",
       "         0.00459879, -0.02230794],\n",
       "       [-0.05175987,  0.03147289, -0.03700026, ..., -0.04426921,\n",
       "        -0.01684417,  0.01751773],\n",
       "       [-0.05065023, -0.04271784,  0.01613566, ..., -0.05029618,\n",
       "         0.0592075 ,  0.06584245]], dtype=float32)"
      ]
     },
     "execution_count": 27,
     "metadata": {},
     "output_type": "execute_result"
    }
   ],
   "source": [
    "weights, biases = hidden1.get_weights()\n",
    "weights"
   ]
  },
  {
   "cell_type": "code",
   "execution_count": 28,
   "metadata": {},
   "outputs": [
    {
     "data": {
      "text/plain": [
       "(784, 300)"
      ]
     },
     "execution_count": 28,
     "metadata": {},
     "output_type": "execute_result"
    }
   ],
   "source": [
    "weights.shape"
   ]
  },
  {
   "cell_type": "code",
   "execution_count": 29,
   "metadata": {},
   "outputs": [
    {
     "data": {
      "text/plain": [
       "array([0., 0., 0., 0., 0., 0., 0., 0., 0., 0., 0., 0., 0., 0., 0., 0., 0.,\n",
       "       0., 0., 0., 0., 0., 0., 0., 0., 0., 0., 0., 0., 0., 0., 0., 0., 0.,\n",
       "       0., 0., 0., 0., 0., 0., 0., 0., 0., 0., 0., 0., 0., 0., 0., 0., 0.,\n",
       "       0., 0., 0., 0., 0., 0., 0., 0., 0., 0., 0., 0., 0., 0., 0., 0., 0.,\n",
       "       0., 0., 0., 0., 0., 0., 0., 0., 0., 0., 0., 0., 0., 0., 0., 0., 0.,\n",
       "       0., 0., 0., 0., 0., 0., 0., 0., 0., 0., 0., 0., 0., 0., 0., 0., 0.,\n",
       "       0., 0., 0., 0., 0., 0., 0., 0., 0., 0., 0., 0., 0., 0., 0., 0., 0.,\n",
       "       0., 0., 0., 0., 0., 0., 0., 0., 0., 0., 0., 0., 0., 0., 0., 0., 0.,\n",
       "       0., 0., 0., 0., 0., 0., 0., 0., 0., 0., 0., 0., 0., 0., 0., 0., 0.,\n",
       "       0., 0., 0., 0., 0., 0., 0., 0., 0., 0., 0., 0., 0., 0., 0., 0., 0.,\n",
       "       0., 0., 0., 0., 0., 0., 0., 0., 0., 0., 0., 0., 0., 0., 0., 0., 0.,\n",
       "       0., 0., 0., 0., 0., 0., 0., 0., 0., 0., 0., 0., 0., 0., 0., 0., 0.,\n",
       "       0., 0., 0., 0., 0., 0., 0., 0., 0., 0., 0., 0., 0., 0., 0., 0., 0.,\n",
       "       0., 0., 0., 0., 0., 0., 0., 0., 0., 0., 0., 0., 0., 0., 0., 0., 0.,\n",
       "       0., 0., 0., 0., 0., 0., 0., 0., 0., 0., 0., 0., 0., 0., 0., 0., 0.,\n",
       "       0., 0., 0., 0., 0., 0., 0., 0., 0., 0., 0., 0., 0., 0., 0., 0., 0.,\n",
       "       0., 0., 0., 0., 0., 0., 0., 0., 0., 0., 0., 0., 0., 0., 0., 0., 0.,\n",
       "       0., 0., 0., 0., 0., 0., 0., 0., 0., 0., 0.], dtype=float32)"
      ]
     },
     "execution_count": 29,
     "metadata": {},
     "output_type": "execute_result"
    }
   ],
   "source": [
    "biases"
   ]
  },
  {
   "cell_type": "code",
   "execution_count": 30,
   "metadata": {},
   "outputs": [
    {
     "data": {
      "text/plain": [
       "(300,)"
      ]
     },
     "execution_count": 30,
     "metadata": {},
     "output_type": "execute_result"
    }
   ],
   "source": [
    "biases.shape"
   ]
  },
  {
   "cell_type": "code",
   "execution_count": 31,
   "metadata": {},
   "outputs": [],
   "source": [
    "model.compile(\n",
    "    loss=\"sparse_categorical_crossentropy\", # à cause des sparse labels et des classes exclusives\n",
    "    optimizer=\"sgd\",                        # on utilise sgd, penser au learning rate\n",
    "    metrics=[\"accuracy\"]                    # c'est important de mesurer la précison pendant l'entrainement et l'évaluation\n",
    ")"
   ]
  },
  {
   "cell_type": "code",
   "execution_count": 32,
   "metadata": {},
   "outputs": [
    {
     "name": "stdout",
     "output_type": "stream",
     "text": [
      "Epoch 1/50\n",
      "1719/1719 [==============================] - 2s 824us/step - loss: 0.7171 - accuracy: 0.7629 - val_loss: 0.5245 - val_accuracy: 0.8212\n",
      "Epoch 2/50\n",
      "1719/1719 [==============================] - 1s 786us/step - loss: 0.4857 - accuracy: 0.8305 - val_loss: 0.4385 - val_accuracy: 0.8526\n",
      "Epoch 3/50\n",
      "1719/1719 [==============================] - 1s 786us/step - loss: 0.4407 - accuracy: 0.8447 - val_loss: 0.5436 - val_accuracy: 0.7986\n",
      "Epoch 4/50\n",
      "1719/1719 [==============================] - 1s 786us/step - loss: 0.4143 - accuracy: 0.8555 - val_loss: 0.3947 - val_accuracy: 0.8680\n",
      "Epoch 5/50\n",
      "1719/1719 [==============================] - 1s 792us/step - loss: 0.3959 - accuracy: 0.8627 - val_loss: 0.3759 - val_accuracy: 0.8710\n",
      "Epoch 6/50\n",
      "1719/1719 [==============================] - 1s 801us/step - loss: 0.3773 - accuracy: 0.8675 - val_loss: 0.3720 - val_accuracy: 0.8750\n",
      "Epoch 7/50\n",
      "1719/1719 [==============================] - 1s 789us/step - loss: 0.3649 - accuracy: 0.8719 - val_loss: 0.3637 - val_accuracy: 0.8748\n",
      "Epoch 8/50\n",
      "1719/1719 [==============================] - 1s 797us/step - loss: 0.3534 - accuracy: 0.8755 - val_loss: 0.3925 - val_accuracy: 0.8608\n",
      "Epoch 9/50\n",
      "1719/1719 [==============================] - 1s 798us/step - loss: 0.3425 - accuracy: 0.8795 - val_loss: 0.3487 - val_accuracy: 0.8744\n",
      "Epoch 10/50\n",
      "1719/1719 [==============================] - 1s 810us/step - loss: 0.3332 - accuracy: 0.8820 - val_loss: 0.3502 - val_accuracy: 0.8738\n",
      "Epoch 11/50\n",
      "1719/1719 [==============================] - 1s 798us/step - loss: 0.3249 - accuracy: 0.8846 - val_loss: 0.3438 - val_accuracy: 0.8782\n",
      "Epoch 12/50\n",
      "1719/1719 [==============================] - 1s 819us/step - loss: 0.3158 - accuracy: 0.8873 - val_loss: 0.3324 - val_accuracy: 0.8810\n",
      "Epoch 13/50\n",
      "1719/1719 [==============================] - 1s 814us/step - loss: 0.3089 - accuracy: 0.8899 - val_loss: 0.3290 - val_accuracy: 0.8858\n",
      "Epoch 14/50\n",
      "1719/1719 [==============================] - 1s 792us/step - loss: 0.3030 - accuracy: 0.8916 - val_loss: 0.3562 - val_accuracy: 0.8712\n",
      "Epoch 15/50\n",
      "1719/1719 [==============================] - 1s 798us/step - loss: 0.2950 - accuracy: 0.8943 - val_loss: 0.3377 - val_accuracy: 0.8772\n",
      "Epoch 16/50\n",
      "1719/1719 [==============================] - 1s 800us/step - loss: 0.2904 - accuracy: 0.8966 - val_loss: 0.3133 - val_accuracy: 0.8876\n",
      "Epoch 17/50\n",
      "1719/1719 [==============================] - 1s 805us/step - loss: 0.2848 - accuracy: 0.8977 - val_loss: 0.3581 - val_accuracy: 0.8724\n",
      "Epoch 18/50\n",
      "1719/1719 [==============================] - 1s 798us/step - loss: 0.2789 - accuracy: 0.8999 - val_loss: 0.3219 - val_accuracy: 0.8862\n",
      "Epoch 19/50\n",
      "1719/1719 [==============================] - 1s 793us/step - loss: 0.2737 - accuracy: 0.9016 - val_loss: 0.3117 - val_accuracy: 0.8882\n",
      "Epoch 20/50\n",
      "1719/1719 [==============================] - 1s 805us/step - loss: 0.2683 - accuracy: 0.9033 - val_loss: 0.3350 - val_accuracy: 0.8780\n",
      "Epoch 21/50\n",
      "1719/1719 [==============================] - 1s 799us/step - loss: 0.2633 - accuracy: 0.9052 - val_loss: 0.3088 - val_accuracy: 0.8852\n",
      "Epoch 22/50\n",
      "1719/1719 [==============================] - 1s 807us/step - loss: 0.2587 - accuracy: 0.9067 - val_loss: 0.3000 - val_accuracy: 0.8924\n",
      "Epoch 23/50\n",
      "1719/1719 [==============================] - 1s 816us/step - loss: 0.2545 - accuracy: 0.9083 - val_loss: 0.3018 - val_accuracy: 0.8874\n",
      "Epoch 24/50\n",
      "1719/1719 [==============================] - 1s 817us/step - loss: 0.2494 - accuracy: 0.9111 - val_loss: 0.3092 - val_accuracy: 0.8860\n",
      "Epoch 25/50\n",
      "1719/1719 [==============================] - 1s 818us/step - loss: 0.2453 - accuracy: 0.9114 - val_loss: 0.3013 - val_accuracy: 0.8916\n",
      "Epoch 26/50\n",
      "1719/1719 [==============================] - 1s 822us/step - loss: 0.2413 - accuracy: 0.9142 - val_loss: 0.3070 - val_accuracy: 0.8896\n",
      "Epoch 27/50\n",
      "1719/1719 [==============================] - 1s 811us/step - loss: 0.2376 - accuracy: 0.9150 - val_loss: 0.3042 - val_accuracy: 0.8900\n",
      "Epoch 28/50\n",
      "1719/1719 [==============================] - 1s 806us/step - loss: 0.2344 - accuracy: 0.9158 - val_loss: 0.3037 - val_accuracy: 0.8868\n",
      "Epoch 29/50\n",
      "1719/1719 [==============================] - 1s 805us/step - loss: 0.2301 - accuracy: 0.9174 - val_loss: 0.3165 - val_accuracy: 0.8846\n",
      "Epoch 30/50\n",
      "1719/1719 [==============================] - 1s 808us/step - loss: 0.2261 - accuracy: 0.9199 - val_loss: 0.3179 - val_accuracy: 0.8848\n",
      "Epoch 31/50\n",
      "1719/1719 [==============================] - 1s 819us/step - loss: 0.2225 - accuracy: 0.9203 - val_loss: 0.3008 - val_accuracy: 0.8896\n",
      "Epoch 32/50\n",
      "1719/1719 [==============================] - 1s 811us/step - loss: 0.2191 - accuracy: 0.9217 - val_loss: 0.3047 - val_accuracy: 0.8892\n",
      "Epoch 33/50\n",
      "1719/1719 [==============================] - 1s 807us/step - loss: 0.2157 - accuracy: 0.9228 - val_loss: 0.3012 - val_accuracy: 0.8910\n",
      "Epoch 34/50\n",
      "1719/1719 [==============================] - 1s 811us/step - loss: 0.2116 - accuracy: 0.9239 - val_loss: 0.3025 - val_accuracy: 0.8894\n",
      "Epoch 35/50\n",
      "1719/1719 [==============================] - 1s 804us/step - loss: 0.2080 - accuracy: 0.9263 - val_loss: 0.2871 - val_accuracy: 0.8958\n",
      "Epoch 36/50\n",
      "1719/1719 [==============================] - 1s 806us/step - loss: 0.2060 - accuracy: 0.9258 - val_loss: 0.3010 - val_accuracy: 0.8952\n",
      "Epoch 37/50\n",
      "1719/1719 [==============================] - 1s 802us/step - loss: 0.2015 - accuracy: 0.9284 - val_loss: 0.2957 - val_accuracy: 0.8930\n",
      "Epoch 38/50\n",
      "1719/1719 [==============================] - 1s 813us/step - loss: 0.1977 - accuracy: 0.9291 - val_loss: 0.2980 - val_accuracy: 0.8928\n",
      "Epoch 39/50\n",
      "1719/1719 [==============================] - 1s 805us/step - loss: 0.1962 - accuracy: 0.9294 - val_loss: 0.2921 - val_accuracy: 0.8972\n",
      "Epoch 40/50\n",
      "1719/1719 [==============================] - 1s 807us/step - loss: 0.1924 - accuracy: 0.9317 - val_loss: 0.2973 - val_accuracy: 0.8948\n",
      "Epoch 41/50\n",
      "1719/1719 [==============================] - 1s 812us/step - loss: 0.1892 - accuracy: 0.9324 - val_loss: 0.2884 - val_accuracy: 0.8938\n",
      "Epoch 42/50\n",
      "1719/1719 [==============================] - 1s 819us/step - loss: 0.1869 - accuracy: 0.9337 - val_loss: 0.2893 - val_accuracy: 0.8968\n",
      "Epoch 43/50\n",
      "1719/1719 [==============================] - 1s 793us/step - loss: 0.1823 - accuracy: 0.9341 - val_loss: 0.3192 - val_accuracy: 0.8884\n",
      "Epoch 44/50\n",
      "1719/1719 [==============================] - 1s 809us/step - loss: 0.1805 - accuracy: 0.9366 - val_loss: 0.3137 - val_accuracy: 0.8902\n",
      "Epoch 45/50\n",
      "1719/1719 [==============================] - 1s 803us/step - loss: 0.1777 - accuracy: 0.9375 - val_loss: 0.3116 - val_accuracy: 0.8904\n",
      "Epoch 46/50\n",
      "1719/1719 [==============================] - 1s 814us/step - loss: 0.1746 - accuracy: 0.9379 - val_loss: 0.3063 - val_accuracy: 0.8918\n",
      "Epoch 47/50\n",
      "1719/1719 [==============================] - 1s 798us/step - loss: 0.1714 - accuracy: 0.9387 - val_loss: 0.3126 - val_accuracy: 0.8902\n",
      "Epoch 48/50\n",
      "1719/1719 [==============================] - 1s 812us/step - loss: 0.1695 - accuracy: 0.9399 - val_loss: 0.3289 - val_accuracy: 0.8886\n",
      "Epoch 49/50\n",
      "1719/1719 [==============================] - 1s 806us/step - loss: 0.1652 - accuracy: 0.9425 - val_loss: 0.3008 - val_accuracy: 0.8922\n",
      "Epoch 50/50\n",
      "1719/1719 [==============================] - 1s 805us/step - loss: 0.1639 - accuracy: 0.9418 - val_loss: 0.3192 - val_accuracy: 0.8902\n"
     ]
    }
   ],
   "source": [
    "# Entrainement et évaluation du modèle\n",
    "\n",
    "\n",
    "\n",
    "history = model.fit(X_train, y_train, epochs=50,\n",
    "                    validation_data=(X_valid, y_valid))"
   ]
  },
  {
   "cell_type": "code",
   "execution_count": 33,
   "metadata": {},
   "outputs": [
    {
     "data": {
      "text/plain": [
       "{'verbose': 1, 'epochs': 50, 'steps': 1719}"
      ]
     },
     "execution_count": 33,
     "metadata": {},
     "output_type": "execute_result"
    }
   ],
   "source": [
    "history.params"
   ]
  },
  {
   "cell_type": "code",
   "execution_count": 34,
   "metadata": {},
   "outputs": [
    {
     "name": "stdout",
     "output_type": "stream",
     "text": [
      "[0, 1, 2, 3, 4, 5, 6, 7, 8, 9, 10, 11, 12, 13, 14, 15, 16, 17, 18, 19, 20, 21, 22, 23, 24, 25, 26, 27, 28, 29, 30, 31, 32, 33, 34, 35, 36, 37, 38, 39, 40, 41, 42, 43, 44, 45, 46, 47, 48, 49]\n"
     ]
    }
   ],
   "source": [
    "print(history.epoch)"
   ]
  },
  {
   "cell_type": "code",
   "execution_count": 35,
   "metadata": {},
   "outputs": [
    {
     "data": {
      "text/plain": [
       "dict_keys(['loss', 'accuracy', 'val_loss', 'val_accuracy'])"
      ]
     },
     "execution_count": 35,
     "metadata": {},
     "output_type": "execute_result"
    }
   ],
   "source": [
    "history.history.keys()"
   ]
  },
  {
   "cell_type": "code",
   "execution_count": 36,
   "metadata": {},
   "outputs": [
    {
     "name": "stdout",
     "output_type": "stream",
     "text": [
      "Saving figure keras_learning_curves_plot\n"
     ]
    },
    {
     "data": {
      "image/png": "[encoded data removed]",
      "text/plain": [
       "<Figure size 576x360 with 1 Axes>"
      ]
     },
     "metadata": {
      "needs_background": "light"
     },
     "output_type": "display_data"
    }
   ],
   "source": [
    "import pandas as pd\n",
    "\n",
    "pd.DataFrame(history.history).plot(figsize=(8, 5))\n",
    "plt.grid(True)\n",
    "plt.gca().set_ylim(0, 1)\n",
    "save_fig(\"keras_learning_curves_plot\")\n",
    "plt.show()"
   ]
  },
  {
   "cell_type": "code",
   "execution_count": 37,
   "metadata": {},
   "outputs": [
    {
     "name": "stdout",
     "output_type": "stream",
     "text": [
      "313/313 [==============================] - 0s 515us/step - loss: 0.3414 - accuracy: 0.8856\n"
     ]
    },
    {
     "data": {
      "text/plain": [
       "[0.341441810131073, 0.8855999708175659]"
      ]
     },
     "execution_count": 37,
     "metadata": {},
     "output_type": "execute_result"
    }
   ],
   "source": [
    "model.evaluate(X_test, y_test)"
   ]
  },
  {
   "cell_type": "code",
   "execution_count": 38,
   "metadata": {},
   "outputs": [
    {
     "data": {
      "text/plain": [
       "array([[0., 0., 0., 0., 0., 0., 0., 0., 0., 1.],\n",
       "       [0., 0., 1., 0., 0., 0., 0., 0., 0., 0.],\n",
       "       [0., 1., 0., 0., 0., 0., 0., 0., 0., 0.]], dtype=float32)"
      ]
     },
     "execution_count": 38,
     "metadata": {},
     "output_type": "execute_result"
    }
   ],
   "source": [
    "# réaliser des prédictions\n",
    "\n",
    "X_new = X_test[:3]\n",
    "y_proba = model.predict(X_new)\n",
    "y_proba.round(2)"
   ]
  },
  {
   "cell_type": "code",
   "execution_count": 39,
   "metadata": {},
   "outputs": [
    {
     "data": {
      "text/plain": [
       "array([9, 2, 1])"
      ]
     },
     "execution_count": 39,
     "metadata": {},
     "output_type": "execute_result"
    }
   ],
   "source": [
    "# y_pred = model.predict_classes(X_new)\n",
    "# Cette fonction a été supprimée dans la version 2.6 de TensorFlow\n",
    "\n",
    "# Il faut faire à la pace :\n",
    "y_pred = np.argmax(y_proba, axis=1)\n",
    "y_pred"
   ]
  },
  {
   "cell_type": "code",
   "execution_count": 40,
   "metadata": {},
   "outputs": [
    {
     "data": {
      "text/plain": [
       "array([9, 2, 1], dtype=uint8)"
      ]
     },
     "execution_count": 40,
     "metadata": {},
     "output_type": "execute_result"
    }
   ],
   "source": [
    "y_new = y_test[:3]\n",
    "y_new"
   ]
  },
  {
   "cell_type": "markdown",
   "metadata": {},
   "source": [
    "## Regression MLP\n",
    "\n",
    "avec le california housing set inclut dans sklearn"
   ]
  },
  {
   "cell_type": "code",
   "execution_count": 60,
   "metadata": {},
   "outputs": [],
   "source": [
    "from sklearn.datasets import fetch_california_housing\n",
    "from sklearn.model_selection import train_test_split\n",
    "from sklearn.preprocessing import StandardScaler\n",
    "\n",
    "housing = fetch_california_housing()\n",
    "\n",
    "X_train_full, X_test, y_train_full, y_test = train_test_split(housing.data, housing.target, random_state=42)\n",
    "\n",
    "X_train, X_valid, y_train, y_valid = train_test_split(X_train_full, y_train_full, random_state=42)\n",
    "\n",
    "scaler = StandardScaler()\n",
    "X_train = scaler.fit_transform(X_train)\n",
    "X_valid = scaler.transform(X_valid)\n",
    "X_test = scaler.transform(X_test)"
   ]
  },
  {
   "cell_type": "code",
   "execution_count": 61,
   "metadata": {},
   "outputs": [],
   "source": [
    "np.random.seed(42)\n",
    "tf.random.set_seed(42)"
   ]
  },
  {
   "cell_type": "markdown",
   "metadata": {},
   "source": [
    "Différence avec ce qu'on a fait avant : l'output layer n'a qu'un seule neurone (puisqu'on ne veut prédire qu'une seule valeur), et n'utilise pas de fonction d'activation, et la fonction de perte est la MSE. Vu que le dataset est bruité, on va seulement utiliser une seule couche cachée avec moins de neurones que précédemment *pour éviter l'overfitting*."
   ]
  },
  {
   "cell_type": "code",
   "execution_count": 62,
   "metadata": {},
   "outputs": [
    {
     "name": "stdout",
     "output_type": "stream",
     "text": [
      "Epoch 1/20\n",
      "363/363 [==============================] - 0s 587us/step - loss: 0.7294 - val_loss: 15.9921\n",
      "Epoch 2/20\n",
      "363/363 [==============================] - 0s 469us/step - loss: 0.6180 - val_loss: 9.6009\n",
      "Epoch 3/20\n",
      "363/363 [==============================] - 0s 458us/step - loss: 0.5292 - val_loss: 0.4534\n",
      "Epoch 4/20\n",
      "363/363 [==============================] - 0s 462us/step - loss: 0.3957 - val_loss: 0.3639\n",
      "Epoch 5/20\n",
      "363/363 [==============================] - 0s 478us/step - loss: 0.3849 - val_loss: 0.3605\n",
      "Epoch 6/20\n",
      "363/363 [==============================] - 0s 453us/step - loss: 0.3776 - val_loss: 0.3825\n",
      "Epoch 7/20\n",
      "363/363 [==============================] - 0s 465us/step - loss: 0.3765 - val_loss: 0.3767\n",
      "Epoch 8/20\n",
      "363/363 [==============================] - 0s 464us/step - loss: 0.3689 - val_loss: 0.3864\n",
      "Epoch 9/20\n",
      "363/363 [==============================] - 0s 466us/step - loss: 0.3649 - val_loss: 0.4068\n",
      "Epoch 10/20\n",
      "363/363 [==============================] - 0s 458us/step - loss: 0.3633 - val_loss: 0.3810\n",
      "Epoch 11/20\n",
      "363/363 [==============================] - 0s 468us/step - loss: 0.3598 - val_loss: 0.3596\n",
      "Epoch 12/20\n",
      "363/363 [==============================] - 0s 474us/step - loss: 0.3585 - val_loss: 0.3756\n",
      "Epoch 13/20\n",
      "363/363 [==============================] - 0s 458us/step - loss: 0.3549 - val_loss: 0.3618\n",
      "Epoch 14/20\n",
      "363/363 [==============================] - 0s 466us/step - loss: 0.3520 - val_loss: 0.3504\n",
      "Epoch 15/20\n",
      "363/363 [==============================] - 0s 507us/step - loss: 0.3546 - val_loss: 0.3635\n",
      "Epoch 16/20\n",
      "363/363 [==============================] - 0s 466us/step - loss: 0.3494 - val_loss: 0.3388\n",
      "Epoch 17/20\n",
      "363/363 [==============================] - 0s 460us/step - loss: 0.3476 - val_loss: 0.3475\n",
      "Epoch 18/20\n",
      "363/363 [==============================] - 0s 467us/step - loss: 0.3467 - val_loss: 0.3460\n",
      "Epoch 19/20\n",
      "363/363 [==============================] - 0s 458us/step - loss: 0.3551 - val_loss: 0.3390\n",
      "Epoch 20/20\n",
      "363/363 [==============================] - 0s 468us/step - loss: 0.3451 - val_loss: 0.3897\n",
      "162/162 [==============================] - 0s 338us/step - loss: 0.3437\n"
     ]
    }
   ],
   "source": [
    "model = keras.models.Sequential([\n",
    "    keras.layers.Dense(30, activation=\"relu\", input_shape=X_train.shape[1:]),\n",
    "    keras.layers.Dense(1)\n",
    "])\n",
    "\n",
    "model.compile(loss=\"mean_squared_error\", optimizer=\"sgd\")\n",
    "\n",
    "history = model.fit(X_train, y_train, epochs=20, validation_data=(X_valid, y_valid))\n",
    "\n",
    "mse_test = model.evaluate(X_test, y_test)\n",
    "\n",
    "X_new = X_test[:3] # on fait comme s'il s'agissait de nouvelles instances\n",
    "\n",
    "y_pred = model.predict(X_new)"
   ]
  },
  {
   "cell_type": "code",
   "execution_count": 71,
   "metadata": {},
   "outputs": [
    {
     "data": {
      "image/png": "[encoded data removed]",
      "text/plain": [
       "<Figure size 432x288 with 1 Axes>"
      ]
     },
     "metadata": {
      "needs_background": "light"
     },
     "output_type": "display_data"
    }
   ],
   "source": [
    "plt.plot(pd.DataFrame(history.history))\n",
    "plt.grid(True)\n",
    "plt.gca().set_ylim(0, 1)\n",
    "plt.show()"
   ]
  },
  {
   "cell_type": "code",
   "execution_count": 72,
   "metadata": {},
   "outputs": [
    {
     "data": {
      "text/plain": [
       "array([[0.32774827],\n",
       "       [1.9024163 ],\n",
       "       [3.4076529 ]], dtype=float32)"
      ]
     },
     "execution_count": 72,
     "metadata": {},
     "output_type": "execute_result"
    }
   ],
   "source": [
    "y_pred"
   ]
  },
  {
   "cell_type": "markdown",
   "metadata": {},
   "source": [
    "L'API Sequential est simple à utiliser. Ce sont des modèles très courants. Cepdenant, si on veut contruire des NN avec des topologies plus complexes ou avec des inputs ou outputs multiples, il y a les Functionnals API.\n",
    "\n",
    "## Functionals API\n",
    "\n",
    "Connecte toutes les parties de l'input à l'output layer.\n",
    "Permet au NN d'apprendre à la fois des deep patterns (chemin profond), et des règles simples (chemin court). (le MLP forçait les inputs à passer à travers toutes les couches, pouvant distordre les patterns simples).\n",
    "\n",
    "Construction d'un NN pour s'occuper du problème California Housing :"
   ]
  },
  {
   "cell_type": "code",
   "execution_count": 73,
   "metadata": {},
   "outputs": [],
   "source": [
    "np.random.seed(42)\n",
    "tf.random.set_seed(42)"
   ]
  },
  {
   "cell_type": "code",
   "execution_count": 74,
   "metadata": {},
   "outputs": [],
   "source": [
    "# 1. Création de l'objet input.\n",
    "#   C'est une spécification du type d'input que va receoir le modèle, comprenant sa shape et son dtype\n",
    "#   Un modèle peut avoir plusieurs inputs\n",
    "\n",
    "input_ = keras.layers.Input(shape=X_train.shape[1:])\n",
    "\n",
    "# 2. Création de la layer Dense de 30 neurones avec relu comme fonction d'activation\n",
    "#   On l'appelle comme une fonction, en lui passant l'input (d'où le nom Functional API)\n",
    "#   On dit à Keras comment il doit connecter les layers ensemble ; aucune donnée n'est traitée pour l'instant.\n",
    "hidden1 = keras.layers.Dense(30, activation=\"relu\")(input_)\n",
    "\n",
    "# 3. Création d'une deuxième couche\n",
    "#   Utilisée à nouveau comme une fonction.\n",
    "#   On lui passe l'output de la couche précédente\n",
    "hidden2 = keras.layers.Dense(30, activation=\"relu\")(hidden1)\n",
    "\n",
    "# 4. Création de la layer Concatenate\n",
    "#   Utilisée comme une fonction, concatène l'input et l'output de la seconde layer\n",
    "#   Possiblité d'utiliser la fonction keras.layers.concatenate(), qui crée une layer concatenate et l'appelle directement avec les inputs donnés. \n",
    "concat = keras.layers.Concatenate()([input_, hidden2])\n",
    "\n",
    "# 5. Création de la layer ouput, avec un seul neurone et pas de fonction d'activation\n",
    "#   On l'appele comme une fonction et on lui passe le résultat de la concaténation\n",
    "output = keras.layers.Dense(1)(concat)\n",
    "\n",
    "# 6. On crée notre modèle en lui spécifiant les inputs et output à utiliser.\n",
    "model = keras.Model(inputs=[input_], outputs=[output])\n",
    "\n",
    "# 7. Compilation du modèle, entraînement, évaluation, prédiction."
   ]
  },
  {
   "cell_type": "code",
   "execution_count": 75,
   "metadata": {},
   "outputs": [
    {
     "name": "stdout",
     "output_type": "stream",
     "text": [
      "Model: \"model_5\"\n",
      "__________________________________________________________________________________________________\n",
      " Layer (type)                   Output Shape         Param #     Connected to                     \n",
      "==================================================================================================\n",
      " input_5 (InputLayer)           [(None, 8)]          0           []                               \n",
      "                                                                                                  \n",
      " dense_24 (Dense)               (None, 30)           270         ['input_5[0][0]']                \n",
      "                                                                                                  \n",
      " dense_25 (Dense)               (None, 30)           930         ['dense_24[0][0]']               \n",
      "                                                                                                  \n",
      " concatenate_5 (Concatenate)    (None, 38)           0           ['input_5[0][0]',                \n",
      "                                                                  'dense_25[0][0]']               \n",
      "                                                                                                  \n",
      " dense_26 (Dense)               (None, 1)            39          ['concatenate_5[0][0]']          \n",
      "                                                                                                  \n",
      "==================================================================================================\n",
      "Total params: 1,239\n",
      "Trainable params: 1,239\n",
      "Non-trainable params: 0\n",
      "__________________________________________________________________________________________________\n"
     ]
    }
   ],
   "source": [
    "model.summary()"
   ]
  },
  {
   "cell_type": "code",
   "execution_count": 76,
   "metadata": {},
   "outputs": [
    {
     "name": "stdout",
     "output_type": "stream",
     "text": [
      "Epoch 1/20\n",
      "363/363 [==============================] - 0s 650us/step - loss: 0.6203 - val_loss: 2.3679\n",
      "Epoch 2/20\n",
      "363/363 [==============================] - 0s 541us/step - loss: 0.5372 - val_loss: 5.5043\n",
      "Epoch 3/20\n",
      "363/363 [==============================] - 0s 562us/step - loss: 0.6309 - val_loss: 8.1746\n",
      "Epoch 4/20\n",
      "363/363 [==============================] - 0s 529us/step - loss: 0.4514 - val_loss: 20.4770\n",
      "Epoch 5/20\n",
      "363/363 [==============================] - 0s 515us/step - loss: 0.4403 - val_loss: 39.8051\n",
      "Epoch 6/20\n",
      "363/363 [==============================] - 0s 529us/step - loss: 0.8949 - val_loss: 32.5544\n",
      "Epoch 7/20\n",
      "363/363 [==============================] - 0s 507us/step - loss: 1.1957 - val_loss: 1.1227\n",
      "Epoch 8/20\n",
      "363/363 [==============================] - 0s 503us/step - loss: 0.3812 - val_loss: 21.0446\n",
      "Epoch 9/20\n",
      "363/363 [==============================] - 0s 512us/step - loss: 0.3818 - val_loss: 11.5713\n",
      "Epoch 10/20\n",
      "363/363 [==============================] - 0s 507us/step - loss: 0.6575 - val_loss: 6.1314\n",
      "Epoch 11/20\n",
      "363/363 [==============================] - 0s 517us/step - loss: 0.3698 - val_loss: 11.7891\n",
      "Epoch 12/20\n",
      "363/363 [==============================] - 0s 514us/step - loss: 0.7757 - val_loss: 47.0095\n",
      "Epoch 13/20\n",
      "363/363 [==============================] - 0s 502us/step - loss: 0.9165 - val_loss: 72.1711\n",
      "Epoch 14/20\n",
      "363/363 [==============================] - 0s 507us/step - loss: 1.9351 - val_loss: 8.8563\n",
      "Epoch 15/20\n",
      "363/363 [==============================] - 0s 509us/step - loss: 0.3813 - val_loss: 16.5998\n",
      "Epoch 16/20\n",
      "363/363 [==============================] - 0s 517us/step - loss: 0.5728 - val_loss: 52.8242\n",
      "Epoch 17/20\n",
      "363/363 [==============================] - 0s 511us/step - loss: 1.0665 - val_loss: 59.7774\n",
      "Epoch 18/20\n",
      "363/363 [==============================] - 0s 516us/step - loss: 0.7162 - val_loss: 127.3429\n",
      "Epoch 19/20\n",
      "363/363 [==============================] - 0s 513us/step - loss: 1.2407 - val_loss: 273.1967\n",
      "Epoch 20/20\n",
      "363/363 [==============================] - 0s 527us/step - loss: 5.3542 - val_loss: 3115.0393\n",
      "162/162 [==============================] - 0s 339us/step - loss: 14.1560\n"
     ]
    }
   ],
   "source": [
    "model.compile(loss=\"mean_squared_error\", optimizer=\"sgd\")\n",
    "\n",
    "history = model.fit(X_train, y_train, epochs=20, validation_data=(X_valid, y_valid))\n",
    "\n",
    "mse_test = model.evaluate(X_test, y_test)\n",
    "\n",
    "y_pred = model.predict(X_new)"
   ]
  },
  {
   "cell_type": "markdown",
   "metadata": {},
   "source": [
    "Que se passe-t-il si on veut envoyer un sous ensemble des features à travers le grand chemin et un différent sous ensemble (overlap possible) dans le chemin profond ?\n",
    "\n",
    "Schéma pour gérer les inputs multiples :\n",
    "\n",
    "Input A =============================V\n",
    "\n",
    "Input B ===> Hidden 1 ===> Hidden 2 ===> Concat ===> Output Layer ===>\n",
    "\n",
    "On va envoyer 5 features à travers le grand chemin (0 à 4) et 6 dans le deep (2 à 7)"
   ]
  },
  {
   "cell_type": "code",
   "execution_count": 77,
   "metadata": {},
   "outputs": [],
   "source": [
    "input_A = keras.layers.Input(shape=[5], name=\"wide_input\")  # Penser à nommer les couches les plus importantes\n",
    "input_B = keras.layers.Input(shape=[6], name=\"deep_input\")  # particulièrement en cas de modèle complexe\n",
    "hidden1 = keras.layers.Dense(30, activation=\"relu\")(input_B)\n",
    "hidden2 = keras.layers.Dense(30, activation=\"relu\")(hidden1)\n",
    "concat = keras.layers.concatenate([input_A, hidden2])\n",
    "output = keras.layers.Dense(1, name=\"output\")(concat)\n",
    "model = keras.Model(inputs=[input_A, input_B], outputs=[output])    # On a deux inputs ici"
   ]
  },
  {
   "cell_type": "markdown",
   "metadata": {},
   "source": [
    "Deux inputs impliquent d'appeler une seule matrice `X_train`, on va en passer deux (`X_train_A` et `X_train_B`) : une par input.\n",
    "Cela s'applique également à `X_valid`, `X_test` et `X_new` quand on appelle `evaluate()` ou `predict()`"
   ]
  },
  {
   "cell_type": "code",
   "execution_count": 78,
   "metadata": {},
   "outputs": [
    {
     "name": "stdout",
     "output_type": "stream",
     "text": [
      "Epoch 1/20\n",
      "363/363 [==============================] - 0s 696us/step - loss: 1.7643 - val_loss: 0.8560\n",
      "Epoch 2/20\n",
      "363/363 [==============================] - 0s 547us/step - loss: 0.7584 - val_loss: 0.6710\n",
      "Epoch 3/20\n",
      "363/363 [==============================] - 0s 575us/step - loss: 0.6584 - val_loss: 0.6169\n",
      "Epoch 4/20\n",
      "363/363 [==============================] - 0s 555us/step - loss: 0.6023 - val_loss: 0.5710\n",
      "Epoch 5/20\n",
      "363/363 [==============================] - 0s 558us/step - loss: 0.5663 - val_loss: 0.5420\n",
      "Epoch 6/20\n",
      "363/363 [==============================] - 0s 594us/step - loss: 0.5380 - val_loss: 0.5176\n",
      "Epoch 7/20\n",
      "363/363 [==============================] - 0s 544us/step - loss: 0.5187 - val_loss: 0.5065\n",
      "Epoch 8/20\n",
      "363/363 [==============================] - 0s 550us/step - loss: 0.5025 - val_loss: 0.4790\n",
      "Epoch 9/20\n",
      "363/363 [==============================] - 0s 527us/step - loss: 0.4889 - val_loss: 0.4564\n",
      "Epoch 10/20\n",
      "363/363 [==============================] - 0s 555us/step - loss: 0.4781 - val_loss: 0.4451\n",
      "Epoch 11/20\n",
      "363/363 [==============================] - 0s 556us/step - loss: 0.4678 - val_loss: 0.4295\n",
      "Epoch 12/20\n",
      "363/363 [==============================] - 0s 546us/step - loss: 0.4617 - val_loss: 0.4228\n",
      "Epoch 13/20\n",
      "363/363 [==============================] - 0s 542us/step - loss: 0.4563 - val_loss: 0.4181\n",
      "Epoch 14/20\n",
      "363/363 [==============================] - 0s 545us/step - loss: 0.4526 - val_loss: 0.4147\n",
      "Epoch 15/20\n",
      "363/363 [==============================] - 0s 556us/step - loss: 0.4487 - val_loss: 0.4125\n",
      "Epoch 16/20\n",
      "363/363 [==============================] - 0s 549us/step - loss: 0.4453 - val_loss: 0.4095\n",
      "Epoch 17/20\n",
      "363/363 [==============================] - 0s 555us/step - loss: 0.4416 - val_loss: 0.4111\n",
      "Epoch 18/20\n",
      "363/363 [==============================] - 0s 551us/step - loss: 0.4400 - val_loss: 0.4091\n",
      "Epoch 19/20\n",
      "363/363 [==============================] - 0s 554us/step - loss: 0.4369 - val_loss: 0.4097\n",
      "Epoch 20/20\n",
      "363/363 [==============================] - 0s 560us/step - loss: 0.4350 - val_loss: 0.4174\n",
      "162/162 [==============================] - 0s 368us/step - loss: 0.4295\n"
     ]
    }
   ],
   "source": [
    "model.compile(loss=\"mse\", optimizer=keras.optimizers.SGD(lr=1e-3))  # On définit un learning rate\n",
    "\n",
    "X_train_A, X_train_B = X_train[:, :5], X_train[:, 2:]\n",
    "X_valid_A, X_valid_B = X_valid[:, :5], X_valid[:, 2:]\n",
    "X_test_A, X_test_B = X_test[:, :5], X_test[:, 2:]\n",
    "X_new_A, X_new_B = X_new[:, :5], X_new[:, 2:]\n",
    "\n",
    "history = model.fit((X_train_A,X_train_B), y_train, epochs=20, validation_data=((X_valid_A, X_valid_B), y_valid))\n",
    "mse_test = model.evaluate((X_test_A, X_test_B), y_test)\n",
    "y_pred = model.predict((X_new_A, X_new_B))"
   ]
  },
  {
   "cell_type": "markdown",
   "metadata": {},
   "source": [
    "Il existe plusieurs cas où on peut vouloir plusieurs output :\n",
    "- La tâche le demande. Ex : localiser et classer l'objet principal dans une image (regression + classification)\n",
    "- Dans le cas de plusieurs tâches indépendantes sur les mêmes données.\n",
    "- En tant que technique de régularisation (entraîner des contraintes dont l'objectif est de réduire l'overfitting et d'améliorer la stabilité générale du modèle)"
   ]
  },
  {
   "cell_type": "markdown",
   "metadata": {},
   "source": [
    "Pour ajouter un extra output : il suffit de le connecter aux layers appropriés et les ajouter à la liste des outputs du modèle.\n",
    "\n",
    "Input A =============================V\n",
    "\n",
    "Input B ===> Hidden 1 ===> Hidden 2 ===> Concat ===> Output Layer ===>\n",
    "\n",
    "                                |===> Aux. Ouput  "
   ]
  },
  {
   "cell_type": "code",
   "execution_count": 79,
   "metadata": {},
   "outputs": [],
   "source": [
    "input_A = keras.layers.Input(shape=[5])\n",
    "input_B = keras.layers.Input(shape=[6])\n",
    "hidden1 = keras.layers.Dense(30, activation=\"relu\")(input_B)\n",
    "hidden2 = keras.layers.Dense(30, activation=\"relu\")(hidden1)\n",
    "concat = keras.layers.concatenate([input_A, hidden2])\n",
    "output = keras.layers.Dense(1)(concat)\n",
    "\n",
    "aux_output = keras.layers.Dense(1, name=\"aux_output\")(hidden2)\n",
    "model = keras.Model(inputs=[input_A, input_B], outputs=[output, aux_output])"
   ]
  },
  {
   "cell_type": "markdown",
   "metadata": {},
   "source": [
    "Chaque modèle aura besoin de sa propre loss function. Donc quand on on compile le modèle, on doit lui passer une liste des losses."
   ]
  },
  {
   "cell_type": "code",
   "execution_count": 80,
   "metadata": {},
   "outputs": [],
   "source": [
    "model.compile(loss=[\"mse\", \"mse\"], loss_weights=[0.9, 0.1], optimizer=\"sgd\")"
   ]
  },
  {
   "cell_type": "markdown",
   "metadata": {},
   "source": [
    "Pour entraîner, on doit lui fournir un label pour chaque output. Dans notre cas, le main et le aux doivent prédire la même chose, donc ils doivent utiliser les mêmes labels."
   ]
  },
  {
   "cell_type": "code",
   "execution_count": 81,
   "metadata": {},
   "outputs": [
    {
     "name": "stdout",
     "output_type": "stream",
     "text": [
      "Epoch 1/20\n",
      "363/363 [==============================] - 1s 846us/step - loss: 0.9281 - dense_31_loss: 0.7711 - aux_output_loss: 2.3413 - val_loss: 1.7726 - val_dense_31_loss: 1.8508 - val_aux_output_loss: 1.0689\n",
      "Epoch 2/20\n",
      "363/363 [==============================] - 0s 621us/step - loss: 0.5190 - dense_31_loss: 0.4744 - aux_output_loss: 0.9204 - val_loss: 9.8483 - val_dense_31_loss: 10.8389 - val_aux_output_loss: 0.9323\n",
      "Epoch 3/20\n",
      "363/363 [==============================] - 0s 640us/step - loss: 0.5704 - dense_31_loss: 0.5438 - aux_output_loss: 0.8098 - val_loss: 0.5983 - val_dense_31_loss: 0.5748 - val_aux_output_loss: 0.8096\n",
      "Epoch 4/20\n",
      "363/363 [==============================] - 0s 640us/step - loss: 0.4518 - dense_31_loss: 0.4233 - aux_output_loss: 0.7082 - val_loss: 0.4883 - val_dense_31_loss: 0.4174 - val_aux_output_loss: 1.1265\n",
      "Epoch 5/20\n",
      "363/363 [==============================] - 0s 632us/step - loss: 0.4371 - dense_31_loss: 0.4144 - aux_output_loss: 0.6420 - val_loss: 0.4655 - val_dense_31_loss: 0.4477 - val_aux_output_loss: 0.6255\n",
      "Epoch 6/20\n",
      "363/363 [==============================] - 0s 645us/step - loss: 0.4245 - dense_31_loss: 0.4050 - aux_output_loss: 0.6000 - val_loss: 0.4392 - val_dense_31_loss: 0.3965 - val_aux_output_loss: 0.8235\n",
      "Epoch 7/20\n",
      "363/363 [==============================] - 0s 641us/step - loss: 0.4203 - dense_31_loss: 0.4027 - aux_output_loss: 0.5786 - val_loss: 0.4013 - val_dense_31_loss: 0.3749 - val_aux_output_loss: 0.6388\n",
      "Epoch 8/20\n",
      "363/363 [==============================] - 0s 624us/step - loss: 0.4122 - dense_31_loss: 0.3954 - aux_output_loss: 0.5632 - val_loss: 0.4001 - val_dense_31_loss: 0.3795 - val_aux_output_loss: 0.5848\n",
      "Epoch 9/20\n",
      "363/363 [==============================] - 0s 632us/step - loss: 0.4054 - dense_31_loss: 0.3893 - aux_output_loss: 0.5510 - val_loss: 0.4071 - val_dense_31_loss: 0.3730 - val_aux_output_loss: 0.7138\n",
      "Epoch 10/20\n",
      "363/363 [==============================] - 0s 640us/step - loss: 0.4014 - dense_31_loss: 0.3855 - aux_output_loss: 0.5442 - val_loss: 0.3820 - val_dense_31_loss: 0.3600 - val_aux_output_loss: 0.5799\n",
      "Epoch 11/20\n",
      "363/363 [==============================] - 0s 635us/step - loss: 0.3989 - dense_31_loss: 0.3837 - aux_output_loss: 0.5355 - val_loss: 0.4153 - val_dense_31_loss: 0.4044 - val_aux_output_loss: 0.5130\n",
      "Epoch 12/20\n",
      "363/363 [==============================] - 0s 654us/step - loss: 0.3948 - dense_31_loss: 0.3799 - aux_output_loss: 0.5290 - val_loss: 0.5124 - val_dense_31_loss: 0.4685 - val_aux_output_loss: 0.9077\n",
      "Epoch 13/20\n",
      "363/363 [==============================] - 0s 684us/step - loss: 0.3937 - dense_31_loss: 0.3791 - aux_output_loss: 0.5245 - val_loss: 0.3840 - val_dense_31_loss: 0.3715 - val_aux_output_loss: 0.4970\n",
      "Epoch 14/20\n",
      "363/363 [==============================] - 0s 653us/step - loss: 0.3836 - dense_31_loss: 0.3689 - aux_output_loss: 0.5160 - val_loss: 0.3580 - val_dense_31_loss: 0.3403 - val_aux_output_loss: 0.5182\n",
      "Epoch 15/20\n",
      "363/363 [==============================] - 0s 648us/step - loss: 0.3837 - dense_31_loss: 0.3698 - aux_output_loss: 0.5089 - val_loss: 0.5292 - val_dense_31_loss: 0.5285 - val_aux_output_loss: 0.5354\n",
      "Epoch 16/20\n",
      "363/363 [==============================] - 0s 627us/step - loss: 0.3775 - dense_31_loss: 0.3635 - aux_output_loss: 0.5041 - val_loss: 0.3629 - val_dense_31_loss: 0.3462 - val_aux_output_loss: 0.5133\n",
      "Epoch 17/20\n",
      "363/363 [==============================] - 0s 663us/step - loss: 0.3738 - dense_31_loss: 0.3601 - aux_output_loss: 0.4967 - val_loss: 0.3517 - val_dense_31_loss: 0.3366 - val_aux_output_loss: 0.4884\n",
      "Epoch 18/20\n",
      "363/363 [==============================] - 0s 635us/step - loss: 0.3693 - dense_31_loss: 0.3560 - aux_output_loss: 0.4889 - val_loss: 0.3550 - val_dense_31_loss: 0.3381 - val_aux_output_loss: 0.5075\n",
      "Epoch 19/20\n",
      "363/363 [==============================] - 0s 647us/step - loss: 0.3737 - dense_31_loss: 0.3613 - aux_output_loss: 0.4853 - val_loss: 0.3442 - val_dense_31_loss: 0.3300 - val_aux_output_loss: 0.4719\n",
      "Epoch 20/20\n",
      "363/363 [==============================] - 0s 645us/step - loss: 0.3647 - dense_31_loss: 0.3522 - aux_output_loss: 0.4775 - val_loss: 0.3504 - val_dense_31_loss: 0.3349 - val_aux_output_loss: 0.4897\n"
     ]
    }
   ],
   "source": [
    "history = model.fit(\n",
    "    [X_train_A, X_train_B], [y_train, y_train], epochs=20,\n",
    "    validation_data=([X_valid_A, X_valid_B], [y_valid, y_valid])\n",
    ")"
   ]
  },
  {
   "cell_type": "code",
   "execution_count": 83,
   "metadata": {},
   "outputs": [
    {
     "name": "stdout",
     "output_type": "stream",
     "text": [
      "162/162 [==============================] - 0s 427us/step - loss: 0.3603 - dense_31_loss: 0.3486 - aux_output_loss: 0.4658\n"
     ]
    }
   ],
   "source": [
    "total_loss, main_loss, aux_loss = model.evaluate([X_test_A, X_test_B], [y_test, y_test])\n",
    "\n",
    "y_pred_main, y_pred_aux = model.predict([X_new_A, X_new_B])"
   ]
  },
  {
   "cell_type": "markdown",
   "metadata": {},
   "source": [
    "## Construire des modèles dynamiques en utilisant le Subclassing API\n",
    "\n",
    "Sequential API et Functional API sont tous les deux déclaratifs. Cela a de nombreux avantages :\n",
    "- facile de sauvegarder le modèle, le cloner et le partager\n",
    "- sa structure peut être affichée et analysée\n",
    "- les erreurs peuvent être capturées avant le traitement des données\n",
    "- facile à debug\n",
    "Inconvénient : c'est statique.\n",
    "\n",
    "Certains modèles impliquent des boucles, des formes qui varient, des branchements conditionnels, et d'autres comportements dynamiques => Subclassing API."
   ]
  },
  {
   "cell_type": "code",
   "execution_count": 86,
   "metadata": {},
   "outputs": [],
   "source": [
    "class WideAndDeepModel(keras.models.Model):\n",
    "    def __init__(self, units=30, activation=\"relu\", **kwargs):\n",
    "        super().__init__(**kwargs)\n",
    "        self.hidden1 = keras.layers.Dense(units, activation=activation)\n",
    "        self.hidden2 = keras.layers.Dense(units, activation=activation)\n",
    "        self.main_output = keras.layers.Dense(1)\n",
    "        self.aux_output = keras.layers.Dense(1)\n",
    "        \n",
    "    def call(self, inputs):\n",
    "        input_A, input_B = inputs\n",
    "        hidden1 = self.hidden1(input_B)\n",
    "        hidden2 = self.hidden2(hidden1)\n",
    "        concat = keras.layers.concatenate([input_A, hidden2])\n",
    "        main_output = self.main_output(concat)\n",
    "        aux_output = self.aux_output(hidden2)\n",
    "        return main_output, aux_output\n",
    "\n",
    "model = WideAndDeepModel(30, activation=\"relu\")"
   ]
  },
  {
   "cell_type": "markdown",
   "metadata": {},
   "source": [
    "On utilise les arguments `input` pour la méthode `call()`.\n",
    "\n",
    "Attention, l'architecture dans la méthode `call()` donc Keras ne peut pas facilment l'inspecter, il ne peut pas la sauvegarder ou la cloner, et elle n'apparaît pas quand on appelle la méthode `summary()`"
   ]
  },
  {
   "cell_type": "code",
   "execution_count": 87,
   "metadata": {},
   "outputs": [
    {
     "name": "stdout",
     "output_type": "stream",
     "text": [
      "Epoch 1/10\n",
      "363/363 [==============================] - 1s 847us/step - loss: 0.9399 - output_1_loss: 0.8268 - output_2_loss: 1.9579 - val_loss: 1.2866 - val_output_1_loss: 1.1465 - val_output_2_loss: 2.5472\n",
      "Epoch 2/10\n",
      "363/363 [==============================] - 0s 621us/step - loss: 0.5232 - output_1_loss: 0.4676 - output_2_loss: 1.0232 - val_loss: 0.5120 - val_output_1_loss: 0.4626 - val_output_2_loss: 0.9564\n",
      "Epoch 3/10\n",
      "363/363 [==============================] - 0s 620us/step - loss: 0.4733 - output_1_loss: 0.4369 - output_2_loss: 0.8009 - val_loss: 0.4329 - val_output_1_loss: 0.4008 - val_output_2_loss: 0.7217\n",
      "Epoch 4/10\n",
      "363/363 [==============================] - 0s 629us/step - loss: 0.4455 - output_1_loss: 0.4186 - output_2_loss: 0.6875 - val_loss: 0.4384 - val_output_1_loss: 0.4154 - val_output_2_loss: 0.6453\n",
      "Epoch 5/10\n",
      "363/363 [==============================] - 0s 639us/step - loss: 0.4319 - output_1_loss: 0.4094 - output_2_loss: 0.6350 - val_loss: 0.4188 - val_output_1_loss: 0.3993 - val_output_2_loss: 0.5947\n",
      "Epoch 6/10\n",
      "363/363 [==============================] - 0s 635us/step - loss: 0.4268 - output_1_loss: 0.4063 - output_2_loss: 0.6115 - val_loss: 0.5450 - val_output_1_loss: 0.5314 - val_output_2_loss: 0.6668\n",
      "Epoch 7/10\n",
      "363/363 [==============================] - 0s 634us/step - loss: 0.4254 - output_1_loss: 0.4050 - output_2_loss: 0.6094 - val_loss: 0.4172 - val_output_1_loss: 0.4017 - val_output_2_loss: 0.5574\n",
      "Epoch 8/10\n",
      "363/363 [==============================] - 0s 636us/step - loss: 0.4126 - output_1_loss: 0.3939 - output_2_loss: 0.5808 - val_loss: 0.3989 - val_output_1_loss: 0.3820 - val_output_2_loss: 0.5509\n",
      "Epoch 9/10\n",
      "363/363 [==============================] - 0s 634us/step - loss: 0.4048 - output_1_loss: 0.3865 - output_2_loss: 0.5696 - val_loss: 0.3993 - val_output_1_loss: 0.3831 - val_output_2_loss: 0.5454\n",
      "Epoch 10/10\n",
      "363/363 [==============================] - 0s 624us/step - loss: 0.3996 - output_1_loss: 0.3817 - output_2_loss: 0.5606 - val_loss: 0.3999 - val_output_1_loss: 0.3851 - val_output_2_loss: 0.5332\n",
      "162/162 [==============================] - 0s 422us/step - loss: 0.3917 - output_1_loss: 0.3740 - output_2_loss: 0.5506\n"
     ]
    }
   ],
   "source": [
    "model.compile(loss=\"mse\", loss_weights=[0.9, 0.1], optimizer=\"sgd\")\n",
    "history = model.fit((X_train_A, X_train_B), (y_train, y_train), epochs=10,\n",
    "                    validation_data=((X_valid_A, X_valid_B), (y_valid, y_valid)))\n",
    "total_loss, main_loss, aux_loss = model.evaluate((X_test_A, X_test_B), (y_test, y_test))\n",
    "y_pred_main, y_pred_aux = model.predict((X_new_A, X_new_B))"
   ]
  },
  {
   "cell_type": "code",
   "execution_count": 88,
   "metadata": {},
   "outputs": [],
   "source": [
    "model = WideAndDeepModel(30, activation=\"relu\")"
   ]
  },
  {
   "cell_type": "markdown",
   "metadata": {},
   "source": [
    "## Sauvegarder et restaurer les modèles"
   ]
  },
  {
   "cell_type": "code",
   "execution_count": 89,
   "metadata": {},
   "outputs": [],
   "source": [
    "np.random.seed(42)\n",
    "tf.random.set_seed(42)"
   ]
  },
  {
   "cell_type": "code",
   "execution_count": 90,
   "metadata": {},
   "outputs": [],
   "source": [
    "model = keras.models.Sequential([\n",
    "    keras.layers.Dense(30, activation=\"relu\", input_shape=[8]),\n",
    "    keras.layers.Dense(30, activation=\"relu\"),\n",
    "    keras.layers.Dense(1)\n",
    "])    "
   ]
  },
  {
   "cell_type": "code",
   "execution_count": 91,
   "metadata": {},
   "outputs": [
    {
     "name": "stdout",
     "output_type": "stream",
     "text": [
      "Epoch 1/10\n",
      "363/363 [==============================] - 0s 699us/step - loss: 0.6710 - val_loss: 0.7166\n",
      "Epoch 2/10\n",
      "363/363 [==============================] - 0s 523us/step - loss: 0.4325 - val_loss: 1.6898\n",
      "Epoch 3/10\n",
      "363/363 [==============================] - 0s 519us/step - loss: 0.4295 - val_loss: 2.8628\n",
      "Epoch 4/10\n",
      "363/363 [==============================] - 0s 508us/step - loss: 0.3919 - val_loss: 2.1929\n",
      "Epoch 5/10\n",
      "363/363 [==============================] - 0s 519us/step - loss: 0.3809 - val_loss: 1.3409\n",
      "Epoch 6/10\n",
      "363/363 [==============================] - 0s 522us/step - loss: 0.3731 - val_loss: 0.3605\n",
      "Epoch 7/10\n",
      "363/363 [==============================] - 0s 510us/step - loss: 0.3664 - val_loss: 0.3711\n",
      "Epoch 8/10\n",
      "363/363 [==============================] - 0s 518us/step - loss: 0.3511 - val_loss: 0.3586\n",
      "Epoch 9/10\n",
      "363/363 [==============================] - 0s 532us/step - loss: 0.3462 - val_loss: 0.3573\n",
      "Epoch 10/10\n",
      "363/363 [==============================] - 0s 517us/step - loss: 0.3429 - val_loss: 0.3699\n",
      "162/162 [==============================] - 0s 345us/step - loss: 0.3347\n"
     ]
    }
   ],
   "source": [
    "model.compile(loss=\"mse\", optimizer=\"sgd\")\n",
    "history = model.fit(X_train, y_train, epochs=10, validation_data=(X_valid, y_valid))\n",
    "mse_test = model.evaluate(X_test, y_test)"
   ]
  },
  {
   "cell_type": "code",
   "execution_count": null,
   "metadata": {},
   "outputs": [],
   "source": []
  }
 ],
 "metadata": {
  "interpreter": {
   "hash": "916dbcbb3f70747c44a77c7bcd40155683ae19c65e1c03b4aa3499c5328201f1"
  },
  "kernelspec": {
   "display_name": "Python 3.8.10 64-bit",
   "language": "python",
   "name": "python3"
  },
  "language_info": {
   "codemirror_mode": {
    "name": "ipython",
    "version": 3
   },
   "file_extension": ".py",
   "mimetype": "text/x-python",
   "name": "python",
   "nbconvert_exporter": "python",
   "pygments_lexer": "ipython3",
   "version": "3.8.10"
  },
  "orig_nbformat": 4
 },
 "nbformat": 4,
 "nbformat_minor": 2
}
