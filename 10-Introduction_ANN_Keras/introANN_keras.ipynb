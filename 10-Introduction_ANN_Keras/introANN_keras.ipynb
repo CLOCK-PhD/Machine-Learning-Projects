{
 "cells": [
  {
   "cell_type": "code",
   "execution_count": 1,
   "metadata": {},
   "outputs": [],
   "source": [
    "## Setup\n",
    "\n",
    "#python >= 3.5 nécessaire\n",
    "import sys\n",
    "assert sys.version_info >= (3, 5)\n",
    "\n",
    "#scikit-learn >= 0.20 nécessaire\n",
    "import sklearn\n",
    "assert sklearn.__version__ >= \"0.20\"\n",
    "\n",
    "# Autres imports\n",
    "import numpy as np\n",
    "import os\n",
    "\n",
    "# pour rendre les output stables au fil des runs\n",
    "np.random.seed(42)\n",
    "\n",
    "# pour tracer de jolis graphes\n",
    "%matplotlib inline\n",
    "import matplotlib as mpl\n",
    "import matplotlib.pyplot as plt\n",
    "mpl.rc('axes', labelsize=14)\n",
    "mpl.rc('xtick', labelsize=12)\n",
    "mpl.rc('ytick', labelsize=12)\n",
    "\n",
    "# où sauvegarder les figures\n",
    "PROJECT_ROOT_DIR = \"..\"\n",
    "CHAPTER_ID = \"ann\"\n",
    "IMAGES_PATH = os.path.join(PROJECT_ROOT_DIR, \"images\", CHAPTER_ID)\n",
    "os.makedirs(IMAGES_PATH, exist_ok=True)\n",
    "\n",
    "def save_fig(fig_id, tight_layout=True, fig_extension=\"png\", resolution=300):\n",
    "    path = os.path.join(IMAGES_PATH, fig_id + \".\" + fig_extension)\n",
    "    print(\"Saving figure\", fig_id)\n",
    "    if tight_layout:\n",
    "        plt.tight_layout()\n",
    "    plt.savefig(path, format=fig_extension, dpi=resolution)\n",
    "\n",
    "# Ignore useless warnings (see SciPy issue #5998)\n",
    "import warnings\n",
    "warnings.filterwarnings(action=\"ignore\", message=\"^internal gelsd\")"
   ]
  },
  {
   "cell_type": "code",
   "execution_count": 2,
   "metadata": {},
   "outputs": [],
   "source": [
    "import tensorflow as tf\n",
    "from tensorflow import keras"
   ]
  },
  {
   "cell_type": "code",
   "execution_count": 3,
   "metadata": {},
   "outputs": [
    {
     "data": {
      "text/plain": [
       "'2.8.0'"
      ]
     },
     "execution_count": 3,
     "metadata": {},
     "output_type": "execute_result"
    }
   ],
   "source": [
    "tf.__version__"
   ]
  },
  {
   "cell_type": "code",
   "execution_count": 4,
   "metadata": {},
   "outputs": [
    {
     "data": {
      "text/plain": [
       "'2.8.0'"
      ]
     },
     "execution_count": 4,
     "metadata": {},
     "output_type": "execute_result"
    }
   ],
   "source": [
    "keras.__version__"
   ]
  },
  {
   "cell_type": "markdown",
   "metadata": {},
   "source": [
    "## Construire un classificateur d'image en utilisant une sequential API\n",
    "\n",
    "On utilise Fashion MNIST qui a la même forme que MNIST, mais les images représentent des objets de mode au lieu de chiffres. Chaque classe est plus diverse, et le problème est beaucoup plus complexe."
   ]
  },
  {
   "cell_type": "code",
   "execution_count": 5,
   "metadata": {},
   "outputs": [],
   "source": [
    "fashion_mnist = keras.datasets.fashion_mnist\n",
    "\n",
    "(X_train_full, y_train_full), (X_test, y_test) = fashion_mnist.load_data()"
   ]
  },
  {
   "cell_type": "code",
   "execution_count": 6,
   "metadata": {},
   "outputs": [
    {
     "data": {
      "text/plain": [
       "(60000, 28, 28)"
      ]
     },
     "execution_count": 6,
     "metadata": {},
     "output_type": "execute_result"
    }
   ],
   "source": [
    "X_train_full.shape"
   ]
  },
  {
   "cell_type": "code",
   "execution_count": 7,
   "metadata": {},
   "outputs": [
    {
     "data": {
      "text/plain": [
       "dtype('uint8')"
      ]
     },
     "execution_count": 7,
     "metadata": {},
     "output_type": "execute_result"
    }
   ],
   "source": [
    "X_train_full.dtype"
   ]
  },
  {
   "cell_type": "markdown",
   "metadata": {},
   "source": [
    "Création du jeu de validation"
   ]
  },
  {
   "cell_type": "code",
   "execution_count": 8,
   "metadata": {},
   "outputs": [],
   "source": [
    "X_valid, X_train = X_train_full[:5000] / 255.0, X_train_full[5000:] / 255.0"
   ]
  },
  {
   "cell_type": "code",
   "execution_count": 9,
   "metadata": {},
   "outputs": [],
   "source": [
    "y_valid, y_train = y_train_full[:5000], y_train_full[5000:]"
   ]
  },
  {
   "cell_type": "code",
   "execution_count": 10,
   "metadata": {},
   "outputs": [],
   "source": [
    "X_test = X_test / 255"
   ]
  },
  {
   "cell_type": "code",
   "execution_count": 11,
   "metadata": {},
   "outputs": [
    {
     "data": {
      "image/png": "[encoded data removed]",
      "text/plain": [
       "<Figure size 432x288 with 1 Axes>"
      ]
     },
     "metadata": {
      "needs_background": "light"
     },
     "output_type": "display_data"
    }
   ],
   "source": [
    "plt.imshow(X_train[0], cmap=\"binary\")\n",
    "plt.axis('off')\n",
    "plt.show()"
   ]
  },
  {
   "cell_type": "code",
   "execution_count": 12,
   "metadata": {},
   "outputs": [
    {
     "data": {
      "text/plain": [
       "array([4, 0, 7, ..., 3, 0, 5], dtype=uint8)"
      ]
     },
     "execution_count": 12,
     "metadata": {},
     "output_type": "execute_result"
    }
   ],
   "source": [
    "y_train"
   ]
  },
  {
   "cell_type": "code",
   "execution_count": 13,
   "metadata": {},
   "outputs": [],
   "source": [
    "# Création des classes Fashion MNIST\n",
    "\n",
    "class_names = [\"T-shir/top\", \"Trouser\", \"Pullover\", \"Dress\", \"Coat\", \"Sandal\", \"Shirt\", \"Sneaker\", \"Bag\", \"Ankle boot\"]"
   ]
  },
  {
   "cell_type": "code",
   "execution_count": 14,
   "metadata": {},
   "outputs": [
    {
     "data": {
      "text/plain": [
       "'Coat'"
      ]
     },
     "execution_count": 14,
     "metadata": {},
     "output_type": "execute_result"
    }
   ],
   "source": [
    "# Première image du JdE :\n",
    "class_names[y_train[0]]"
   ]
  },
  {
   "cell_type": "code",
   "execution_count": 15,
   "metadata": {},
   "outputs": [
    {
     "data": {
      "text/plain": [
       "(5000, 28, 28)"
      ]
     },
     "execution_count": 15,
     "metadata": {},
     "output_type": "execute_result"
    }
   ],
   "source": [
    "X_valid.shape"
   ]
  },
  {
   "cell_type": "code",
   "execution_count": 16,
   "metadata": {},
   "outputs": [
    {
     "data": {
      "text/plain": [
       "(10000, 28, 28)"
      ]
     },
     "execution_count": 16,
     "metadata": {},
     "output_type": "execute_result"
    }
   ],
   "source": [
    "X_test.shape"
   ]
  },
  {
   "cell_type": "code",
   "execution_count": 17,
   "metadata": {},
   "outputs": [
    {
     "name": "stdout",
     "output_type": "stream",
     "text": [
      "Saving figure fashion_mnist_diagram\n"
     ]
    },
    {
     "data": {
      "image/png": "[encoded data removed]",
      "text/plain": [
       "<Figure size 864x345.6 with 40 Axes>"
      ]
     },
     "metadata": {
      "needs_background": "light"
     },
     "output_type": "display_data"
    }
   ],
   "source": [
    "# Echantillon du dataset\n",
    "\n",
    "n_rows = 4\n",
    "n_cols = 10\n",
    "plt.figure(figsize=(n_cols * 1.2, n_rows * 1.2))\n",
    "for row in range(n_rows):\n",
    "    for col in range(n_cols):\n",
    "        index = n_cols * row + col\n",
    "        plt.subplot(n_rows, n_cols, index + 1)\n",
    "        plt.imshow(X_train[index], cmap=\"binary\", interpolation=\"nearest\")\n",
    "        plt.axis('off')\n",
    "        plt.title(class_names[y_train[index]], fontsize=12)\n",
    "plt.subplots_adjust(wspace=0.2, hspace=0.5)\n",
    "save_fig('fashion_mnist_diagram', tight_layout=False)\n",
    "plt.show()"
   ]
  },
  {
   "cell_type": "code",
   "execution_count": 18,
   "metadata": {},
   "outputs": [],
   "source": [
    "# Construction du NN :\n",
    "#   MLP de classification avec deux hidden layers\n",
    "\n",
    "model = keras.models.Sequential()   # Crée un modèle séquentiel (sequential API)\n",
    "model.add(keras.layers.Flatten(input_shape=[28,28]))    # Première couche; flatten : image -> tab 1D + taille image\n",
    "model.add(keras.layers.Dense(300, activation=\"relu\"))   # couche cachée de 300 neurones avec relu comme fonction d'activation\n",
    "model.add(keras.layers.Dense(100, activation=\"relu\"))   # Pareil avec 100 neurones\n",
    "model.add(keras.layers.Dense(10, activation=\"softmax\")) # Output layer de 10 neurones (1/classe) avec softmax actfct car classes exclusives"
   ]
  },
  {
   "cell_type": "code",
   "execution_count": 19,
   "metadata": {},
   "outputs": [],
   "source": [
    "np.random.seed(42)\n",
    "tf.random.set_seed(42)"
   ]
  },
  {
   "cell_type": "markdown",
   "metadata": {},
   "source": [
    "On peut écrire plus rapidement avec cette forme :"
   ]
  },
  {
   "cell_type": "code",
   "execution_count": 20,
   "metadata": {},
   "outputs": [
    {
     "data": {
      "text/plain": [
       "'model = keras.models.Sequential([\\n    keras.layers.Flatten(input_shape=[20,28]),\\n    keras.layers.Dense(300, activation=\"relu\"),\\n    keras.layers.Dense(100, activation=\"relu\"),\\n    keras.layers.Dense(10, activation=\"softmax\"),\\n])'"
      ]
     },
     "execution_count": 20,
     "metadata": {},
     "output_type": "execute_result"
    }
   ],
   "source": [
    "\"\"\"model = keras.models.Sequential([\n",
    "    keras.layers.Flatten(input_shape=[20,28]),\n",
    "    keras.layers.Dense(300, activation=\"relu\"),\n",
    "    keras.layers.Dense(100, activation=\"relu\"),\n",
    "    keras.layers.Dense(10, activation=\"softmax\"),\n",
    "])\"\"\""
   ]
  },
  {
   "cell_type": "code",
   "execution_count": 21,
   "metadata": {},
   "outputs": [
    {
     "data": {
      "text/plain": [
       "[<keras.layers.core.flatten.Flatten at 0x7f696304c7c0>,\n",
       " <keras.layers.core.dense.Dense at 0x7f696304c910>,\n",
       " <keras.layers.core.dense.Dense at 0x7f6944215ac0>,\n",
       " <keras.layers.core.dense.Dense at 0x7f6944215880>]"
      ]
     },
     "execution_count": 21,
     "metadata": {},
     "output_type": "execute_result"
    }
   ],
   "source": [
    "model.layers"
   ]
  },
  {
   "cell_type": "code",
   "execution_count": 22,
   "metadata": {},
   "outputs": [
    {
     "name": "stdout",
     "output_type": "stream",
     "text": [
      "Model: \"sequential\"\n",
      "_________________________________________________________________\n",
      " Layer (type)                Output Shape              Param #   \n",
      "=================================================================\n",
      " flatten (Flatten)           (None, 784)               0         \n",
      "                                                                 \n",
      " dense (Dense)               (None, 300)               235500    \n",
      "                                                                 \n",
      " dense_1 (Dense)             (None, 100)               30100     \n",
      "                                                                 \n",
      " dense_2 (Dense)             (None, 10)                1010      \n",
      "                                                                 \n",
      "=================================================================\n",
      "Total params: 266,610\n",
      "Trainable params: 266,610\n",
      "Non-trainable params: 0\n",
      "_________________________________________________________________\n"
     ]
    }
   ],
   "source": [
    "model.summary()"
   ]
  },
  {
   "cell_type": "code",
   "execution_count": 23,
   "metadata": {},
   "outputs": [
    {
     "data": {
      "image/png": "[encoded data removed]",
      "text/plain": [
       "<IPython.core.display.Image object>"
      ]
     },
     "execution_count": 23,
     "metadata": {},
     "output_type": "execute_result"
    }
   ],
   "source": [
    "keras.utils.plot_model(model, \"my_mnist_model.png\", show_shapes=True)"
   ]
  },
  {
   "cell_type": "code",
   "execution_count": 24,
   "metadata": {},
   "outputs": [
    {
     "data": {
      "text/plain": [
       "'dense'"
      ]
     },
     "execution_count": 24,
     "metadata": {},
     "output_type": "execute_result"
    }
   ],
   "source": [
    "hidden1 = model.layers[1]\n",
    "hidden1.name"
   ]
  },
  {
   "cell_type": "code",
   "execution_count": 25,
   "metadata": {},
   "outputs": [
    {
     "data": {
      "text/plain": [
       "True"
      ]
     },
     "execution_count": 25,
     "metadata": {},
     "output_type": "execute_result"
    }
   ],
   "source": [
    "model.get_layer('dense') is hidden1"
   ]
  },
  {
   "cell_type": "code",
   "execution_count": 26,
   "metadata": {},
   "outputs": [
    {
     "data": {
      "text/plain": [
       "array([[ 0.02289999, -0.00147606,  0.01984628, ...,  0.04987892,\n",
       "         0.0406944 , -0.01723183],\n",
       "       [-0.03699992, -0.03727816, -0.01813942, ...,  0.03726716,\n",
       "        -0.02766204,  0.00973767],\n",
       "       [-0.03086628,  0.05213721, -0.00695608, ...,  0.04644381,\n",
       "         0.05593675, -0.01193619],\n",
       "       ...,\n",
       "       [-0.0527398 , -0.0256734 , -0.005972  , ..., -0.06833544,\n",
       "        -0.00664382, -0.00935574],\n",
       "       [ 0.02236076,  0.06594138,  0.05732858, ...,  0.02020223,\n",
       "         0.01196507,  0.03047074],\n",
       "       [ 0.0430546 , -0.02390738,  0.05928753, ..., -0.03537909,\n",
       "        -0.03248047, -0.06482322]], dtype=float32)"
      ]
     },
     "execution_count": 26,
     "metadata": {},
     "output_type": "execute_result"
    }
   ],
   "source": [
    "weights, biases = hidden1.get_weights()\n",
    "weights"
   ]
  },
  {
   "cell_type": "code",
   "execution_count": 27,
   "metadata": {},
   "outputs": [
    {
     "data": {
      "text/plain": [
       "(784, 300)"
      ]
     },
     "execution_count": 27,
     "metadata": {},
     "output_type": "execute_result"
    }
   ],
   "source": [
    "weights.shape"
   ]
  },
  {
   "cell_type": "code",
   "execution_count": 28,
   "metadata": {},
   "outputs": [
    {
     "data": {
      "text/plain": [
       "array([0., 0., 0., 0., 0., 0., 0., 0., 0., 0., 0., 0., 0., 0., 0., 0., 0.,\n",
       "       0., 0., 0., 0., 0., 0., 0., 0., 0., 0., 0., 0., 0., 0., 0., 0., 0.,\n",
       "       0., 0., 0., 0., 0., 0., 0., 0., 0., 0., 0., 0., 0., 0., 0., 0., 0.,\n",
       "       0., 0., 0., 0., 0., 0., 0., 0., 0., 0., 0., 0., 0., 0., 0., 0., 0.,\n",
       "       0., 0., 0., 0., 0., 0., 0., 0., 0., 0., 0., 0., 0., 0., 0., 0., 0.,\n",
       "       0., 0., 0., 0., 0., 0., 0., 0., 0., 0., 0., 0., 0., 0., 0., 0., 0.,\n",
       "       0., 0., 0., 0., 0., 0., 0., 0., 0., 0., 0., 0., 0., 0., 0., 0., 0.,\n",
       "       0., 0., 0., 0., 0., 0., 0., 0., 0., 0., 0., 0., 0., 0., 0., 0., 0.,\n",
       "       0., 0., 0., 0., 0., 0., 0., 0., 0., 0., 0., 0., 0., 0., 0., 0., 0.,\n",
       "       0., 0., 0., 0., 0., 0., 0., 0., 0., 0., 0., 0., 0., 0., 0., 0., 0.,\n",
       "       0., 0., 0., 0., 0., 0., 0., 0., 0., 0., 0., 0., 0., 0., 0., 0., 0.,\n",
       "       0., 0., 0., 0., 0., 0., 0., 0., 0., 0., 0., 0., 0., 0., 0., 0., 0.,\n",
       "       0., 0., 0., 0., 0., 0., 0., 0., 0., 0., 0., 0., 0., 0., 0., 0., 0.,\n",
       "       0., 0., 0., 0., 0., 0., 0., 0., 0., 0., 0., 0., 0., 0., 0., 0., 0.,\n",
       "       0., 0., 0., 0., 0., 0., 0., 0., 0., 0., 0., 0., 0., 0., 0., 0., 0.,\n",
       "       0., 0., 0., 0., 0., 0., 0., 0., 0., 0., 0., 0., 0., 0., 0., 0., 0.,\n",
       "       0., 0., 0., 0., 0., 0., 0., 0., 0., 0., 0., 0., 0., 0., 0., 0., 0.,\n",
       "       0., 0., 0., 0., 0., 0., 0., 0., 0., 0., 0.], dtype=float32)"
      ]
     },
     "execution_count": 28,
     "metadata": {},
     "output_type": "execute_result"
    }
   ],
   "source": [
    "biases"
   ]
  },
  {
   "cell_type": "code",
   "execution_count": 29,
   "metadata": {},
   "outputs": [
    {
     "data": {
      "text/plain": [
       "(300,)"
      ]
     },
     "execution_count": 29,
     "metadata": {},
     "output_type": "execute_result"
    }
   ],
   "source": [
    "biases.shape"
   ]
  },
  {
   "cell_type": "code",
   "execution_count": 30,
   "metadata": {},
   "outputs": [],
   "source": [
    "model.compile(\n",
    "    loss=\"sparse_categorical_crossentropy\", # à cause des sparse labels et des classes exclusives\n",
    "    optimizer=\"sgd\",                        # on utilise sgd, penser au learning rate\n",
    "    metrics=[\"accuracy\"]                    # c'est important de mesurer la précison pendant l'entrainement et l'évaluation\n",
    ")"
   ]
  },
  {
   "cell_type": "code",
   "execution_count": 31,
   "metadata": {},
   "outputs": [
    {
     "name": "stdout",
     "output_type": "stream",
     "text": [
      "Epoch 1/50\n",
      "1719/1719 [==============================] - 2s 869us/step - loss: 0.7013 - accuracy: 0.7659 - val_loss: 0.5175 - val_accuracy: 0.8270\n",
      "Epoch 2/50\n",
      "1719/1719 [==============================] - 1s 812us/step - loss: 0.4851 - accuracy: 0.8293 - val_loss: 0.4337 - val_accuracy: 0.8520\n",
      "Epoch 3/50\n",
      "1719/1719 [==============================] - 1s 823us/step - loss: 0.4397 - accuracy: 0.8451 - val_loss: 0.5249 - val_accuracy: 0.8070\n",
      "Epoch 4/50\n",
      "1719/1719 [==============================] - 1s 830us/step - loss: 0.4134 - accuracy: 0.8541 - val_loss: 0.3934 - val_accuracy: 0.8664\n",
      "Epoch 5/50\n",
      "1719/1719 [==============================] - 1s 822us/step - loss: 0.3954 - accuracy: 0.8618 - val_loss: 0.3786 - val_accuracy: 0.8682\n",
      "Epoch 6/50\n",
      "1719/1719 [==============================] - 1s 820us/step - loss: 0.3772 - accuracy: 0.8666 - val_loss: 0.3731 - val_accuracy: 0.8714\n",
      "Epoch 7/50\n",
      "1719/1719 [==============================] - 1s 819us/step - loss: 0.3650 - accuracy: 0.8702 - val_loss: 0.3691 - val_accuracy: 0.8714\n",
      "Epoch 8/50\n",
      "1719/1719 [==============================] - 2s 887us/step - loss: 0.3541 - accuracy: 0.8734 - val_loss: 0.3922 - val_accuracy: 0.8580\n",
      "Epoch 9/50\n",
      "1719/1719 [==============================] - 1s 859us/step - loss: 0.3438 - accuracy: 0.8767 - val_loss: 0.3593 - val_accuracy: 0.8736\n",
      "Epoch 10/50\n",
      "1719/1719 [==============================] - 1s 864us/step - loss: 0.3346 - accuracy: 0.8799 - val_loss: 0.3518 - val_accuracy: 0.8732\n",
      "Epoch 11/50\n",
      "1719/1719 [==============================] - 2s 885us/step - loss: 0.3265 - accuracy: 0.8830 - val_loss: 0.3469 - val_accuracy: 0.8748\n",
      "Epoch 12/50\n",
      "1719/1719 [==============================] - 1s 860us/step - loss: 0.3174 - accuracy: 0.8861 - val_loss: 0.3333 - val_accuracy: 0.8806\n",
      "Epoch 13/50\n",
      "1719/1719 [==============================] - 1s 853us/step - loss: 0.3108 - accuracy: 0.8885 - val_loss: 0.3294 - val_accuracy: 0.8860\n",
      "Epoch 14/50\n",
      "1719/1719 [==============================] - 2s 887us/step - loss: 0.3043 - accuracy: 0.8903 - val_loss: 0.3488 - val_accuracy: 0.8738\n",
      "Epoch 15/50\n",
      "1719/1719 [==============================] - 2s 885us/step - loss: 0.2968 - accuracy: 0.8928 - val_loss: 0.3338 - val_accuracy: 0.8784\n",
      "Epoch 16/50\n",
      "1719/1719 [==============================] - 2s 877us/step - loss: 0.2919 - accuracy: 0.8944 - val_loss: 0.3156 - val_accuracy: 0.8870\n",
      "Epoch 17/50\n",
      "1719/1719 [==============================] - 2s 890us/step - loss: 0.2865 - accuracy: 0.8961 - val_loss: 0.3657 - val_accuracy: 0.8700\n",
      "Epoch 18/50\n",
      "1719/1719 [==============================] - 2s 888us/step - loss: 0.2803 - accuracy: 0.8993 - val_loss: 0.3149 - val_accuracy: 0.8888\n",
      "Epoch 19/50\n",
      "1719/1719 [==============================] - 1s 870us/step - loss: 0.2756 - accuracy: 0.9015 - val_loss: 0.3117 - val_accuracy: 0.8894\n",
      "Epoch 20/50\n",
      "1719/1719 [==============================] - 1s 845us/step - loss: 0.2700 - accuracy: 0.9033 - val_loss: 0.3417 - val_accuracy: 0.8750\n",
      "Epoch 21/50\n",
      "1719/1719 [==============================] - 1s 851us/step - loss: 0.2652 - accuracy: 0.9037 - val_loss: 0.3105 - val_accuracy: 0.8902\n",
      "Epoch 22/50\n",
      "1719/1719 [==============================] - 1s 850us/step - loss: 0.2603 - accuracy: 0.9068 - val_loss: 0.2999 - val_accuracy: 0.8952\n",
      "Epoch 23/50\n",
      "1719/1719 [==============================] - 2s 883us/step - loss: 0.2562 - accuracy: 0.9083 - val_loss: 0.3069 - val_accuracy: 0.8902\n",
      "Epoch 24/50\n",
      "1719/1719 [==============================] - 1s 870us/step - loss: 0.2517 - accuracy: 0.9095 - val_loss: 0.3083 - val_accuracy: 0.8892\n",
      "Epoch 25/50\n",
      "1719/1719 [==============================] - 1s 869us/step - loss: 0.2471 - accuracy: 0.9103 - val_loss: 0.3064 - val_accuracy: 0.8910\n",
      "Epoch 26/50\n",
      "1719/1719 [==============================] - 2s 877us/step - loss: 0.2431 - accuracy: 0.9121 - val_loss: 0.3079 - val_accuracy: 0.8898\n",
      "Epoch 27/50\n",
      "1719/1719 [==============================] - 2s 889us/step - loss: 0.2395 - accuracy: 0.9135 - val_loss: 0.3024 - val_accuracy: 0.8934\n",
      "Epoch 28/50\n",
      "1719/1719 [==============================] - 2s 881us/step - loss: 0.2358 - accuracy: 0.9145 - val_loss: 0.3087 - val_accuracy: 0.8894\n",
      "Epoch 29/50\n",
      "1719/1719 [==============================] - 1s 865us/step - loss: 0.2317 - accuracy: 0.9178 - val_loss: 0.3132 - val_accuracy: 0.8880\n",
      "Epoch 30/50\n",
      "1719/1719 [==============================] - 2s 909us/step - loss: 0.2281 - accuracy: 0.9179 - val_loss: 0.3186 - val_accuracy: 0.8898\n",
      "Epoch 31/50\n",
      "1719/1719 [==============================] - 2s 889us/step - loss: 0.2241 - accuracy: 0.9188 - val_loss: 0.2935 - val_accuracy: 0.8962\n",
      "Epoch 32/50\n",
      "1719/1719 [==============================] - 1s 856us/step - loss: 0.2203 - accuracy: 0.9205 - val_loss: 0.2969 - val_accuracy: 0.8944\n",
      "Epoch 33/50\n",
      "1719/1719 [==============================] - 2s 874us/step - loss: 0.2164 - accuracy: 0.9225 - val_loss: 0.3040 - val_accuracy: 0.8922\n",
      "Epoch 34/50\n",
      "1719/1719 [==============================] - 2s 895us/step - loss: 0.2134 - accuracy: 0.9229 - val_loss: 0.2989 - val_accuracy: 0.8906\n",
      "Epoch 35/50\n",
      "1719/1719 [==============================] - 2s 879us/step - loss: 0.2086 - accuracy: 0.9254 - val_loss: 0.2906 - val_accuracy: 0.8968\n",
      "Epoch 36/50\n",
      "1719/1719 [==============================] - 2s 913us/step - loss: 0.2068 - accuracy: 0.9259 - val_loss: 0.3030 - val_accuracy: 0.8946\n",
      "Epoch 37/50\n",
      "1719/1719 [==============================] - 2s 919us/step - loss: 0.2037 - accuracy: 0.9268 - val_loss: 0.3001 - val_accuracy: 0.8954\n",
      "Epoch 38/50\n",
      "1719/1719 [==============================] - 2s 905us/step - loss: 0.1992 - accuracy: 0.9288 - val_loss: 0.2934 - val_accuracy: 0.8930\n",
      "Epoch 39/50\n",
      "1719/1719 [==============================] - 2s 911us/step - loss: 0.1982 - accuracy: 0.9292 - val_loss: 0.2943 - val_accuracy: 0.8978\n",
      "Epoch 40/50\n",
      "1719/1719 [==============================] - 2s 903us/step - loss: 0.1932 - accuracy: 0.9312 - val_loss: 0.2947 - val_accuracy: 0.8978\n",
      "Epoch 41/50\n",
      "1719/1719 [==============================] - 2s 898us/step - loss: 0.1909 - accuracy: 0.9330 - val_loss: 0.2881 - val_accuracy: 0.8980\n",
      "Epoch 42/50\n",
      "1719/1719 [==============================] - 2s 880us/step - loss: 0.1886 - accuracy: 0.9327 - val_loss: 0.2938 - val_accuracy: 0.8986\n",
      "Epoch 43/50\n",
      "1719/1719 [==============================] - 1s 861us/step - loss: 0.1841 - accuracy: 0.9345 - val_loss: 0.3381 - val_accuracy: 0.8816\n",
      "Epoch 44/50\n",
      "1719/1719 [==============================] - 2s 914us/step - loss: 0.1824 - accuracy: 0.9352 - val_loss: 0.3002 - val_accuracy: 0.8946\n",
      "Epoch 45/50\n",
      "1719/1719 [==============================] - 2s 920us/step - loss: 0.1797 - accuracy: 0.9356 - val_loss: 0.2961 - val_accuracy: 0.8938\n",
      "Epoch 46/50\n",
      "1719/1719 [==============================] - 2s 915us/step - loss: 0.1752 - accuracy: 0.9375 - val_loss: 0.3128 - val_accuracy: 0.8906\n",
      "Epoch 47/50\n",
      "1719/1719 [==============================] - 2s 946us/step - loss: 0.1735 - accuracy: 0.9375 - val_loss: 0.2978 - val_accuracy: 0.8982\n",
      "Epoch 48/50\n",
      "1719/1719 [==============================] - 2s 1ms/step - loss: 0.1707 - accuracy: 0.9389 - val_loss: 0.3071 - val_accuracy: 0.8928\n",
      "Epoch 49/50\n",
      "1719/1719 [==============================] - 2s 1ms/step - loss: 0.1675 - accuracy: 0.9400 - val_loss: 0.2956 - val_accuracy: 0.8972\n",
      "Epoch 50/50\n",
      "1719/1719 [==============================] - 2s 1ms/step - loss: 0.1656 - accuracy: 0.9407 - val_loss: 0.3158 - val_accuracy: 0.8914\n"
     ]
    }
   ],
   "source": [
    "# Entrainement et évaluation du modèle\n",
    "\n",
    "\n",
    "\n",
    "history = model.fit(X_train, y_train, epochs=50,\n",
    "                    validation_data=(X_valid, y_valid))"
   ]
  },
  {
   "cell_type": "code",
   "execution_count": 32,
   "metadata": {},
   "outputs": [
    {
     "data": {
      "text/plain": [
       "{'verbose': 1, 'epochs': 50, 'steps': 1719}"
      ]
     },
     "execution_count": 32,
     "metadata": {},
     "output_type": "execute_result"
    }
   ],
   "source": [
    "history.params"
   ]
  },
  {
   "cell_type": "code",
   "execution_count": 33,
   "metadata": {},
   "outputs": [
    {
     "name": "stdout",
     "output_type": "stream",
     "text": [
      "[0, 1, 2, 3, 4, 5, 6, 7, 8, 9, 10, 11, 12, 13, 14, 15, 16, 17, 18, 19, 20, 21, 22, 23, 24, 25, 26, 27, 28, 29, 30, 31, 32, 33, 34, 35, 36, 37, 38, 39, 40, 41, 42, 43, 44, 45, 46, 47, 48, 49]\n"
     ]
    }
   ],
   "source": [
    "print(history.epoch)"
   ]
  },
  {
   "cell_type": "code",
   "execution_count": 34,
   "metadata": {},
   "outputs": [
    {
     "data": {
      "text/plain": [
       "dict_keys(['loss', 'accuracy', 'val_loss', 'val_accuracy'])"
      ]
     },
     "execution_count": 34,
     "metadata": {},
     "output_type": "execute_result"
    }
   ],
   "source": [
    "history.history.keys()"
   ]
  },
  {
   "cell_type": "code",
   "execution_count": 35,
   "metadata": {},
   "outputs": [
    {
     "name": "stdout",
     "output_type": "stream",
     "text": [
      "Saving figure keras_learning_curves_plot\n"
     ]
    },
    {
     "data": {
      "image/png": "[encoded data removed]",
      "text/plain": [
       "<Figure size 576x360 with 1 Axes>"
      ]
     },
     "metadata": {
      "needs_background": "light"
     },
     "output_type": "display_data"
    }
   ],
   "source": [
    "import pandas as pd\n",
    "\n",
    "pd.DataFrame(history.history).plot(figsize=(8, 5))\n",
    "plt.grid(True)\n",
    "plt.gca().set_ylim(0, 1)\n",
    "save_fig(\"keras_learning_curves_plot\")\n",
    "plt.show()"
   ]
  },
  {
   "cell_type": "code",
   "execution_count": 36,
   "metadata": {},
   "outputs": [
    {
     "name": "stdout",
     "output_type": "stream",
     "text": [
      "313/313 [==============================] - 0s 541us/step - loss: 0.3501 - accuracy: 0.8800\n"
     ]
    },
    {
     "data": {
      "text/plain": [
       "[0.3500973582267761, 0.8799999952316284]"
      ]
     },
     "execution_count": 36,
     "metadata": {},
     "output_type": "execute_result"
    }
   ],
   "source": [
    "model.evaluate(X_test, y_test)"
   ]
  },
  {
   "cell_type": "code",
   "execution_count": 41,
   "metadata": {},
   "outputs": [
    {
     "data": {
      "text/plain": [
       "array([[0., 0., 0., 0., 0., 0., 0., 0., 0., 1.],\n",
       "       [0., 0., 1., 0., 0., 0., 0., 0., 0., 0.],\n",
       "       [0., 1., 0., 0., 0., 0., 0., 0., 0., 0.]], dtype=float32)"
      ]
     },
     "execution_count": 41,
     "metadata": {},
     "output_type": "execute_result"
    }
   ],
   "source": [
    "# réaliser des prédictions\n",
    "\n",
    "X_new = X_test[:3]\n",
    "y_proba = model.predict(X_new)\n",
    "y_proba.round(2)"
   ]
  },
  {
   "cell_type": "code",
   "execution_count": 43,
   "metadata": {},
   "outputs": [
    {
     "data": {
      "text/plain": [
       "array([9, 2, 1])"
      ]
     },
     "execution_count": 43,
     "metadata": {},
     "output_type": "execute_result"
    }
   ],
   "source": [
    "# y_pred = model.predict_classes(X_new)\n",
    "# Cette fonction a été supprimée dans la version 2.6 de TensorFlow\n",
    "\n",
    "# Il faut faire à la pace :\n",
    "y_pred = np.argmax(y_proba, axis=1)\n",
    "y_pred"
   ]
  },
  {
   "cell_type": "code",
   "execution_count": 44,
   "metadata": {},
   "outputs": [
    {
     "data": {
      "text/plain": [
       "array([9, 2, 1], dtype=uint8)"
      ]
     },
     "execution_count": 44,
     "metadata": {},
     "output_type": "execute_result"
    }
   ],
   "source": [
    "y_new = y_test[:3]\n",
    "y_new"
   ]
  }
 ],
 "metadata": {
  "interpreter": {
   "hash": "916dbcbb3f70747c44a77c7bcd40155683ae19c65e1c03b4aa3499c5328201f1"
  },
  "kernelspec": {
   "display_name": "Python 3.8.10 64-bit",
   "language": "python",
   "name": "python3"
  },
  "language_info": {
   "codemirror_mode": {
    "name": "ipython",
    "version": 3
   },
   "file_extension": ".py",
   "mimetype": "text/x-python",
   "name": "python",
   "nbconvert_exporter": "python",
   "pygments_lexer": "ipython3",
   "version": "3.8.10"
  },
  "orig_nbformat": 4
 },
 "nbformat": 4,
 "nbformat_minor": 2
}
